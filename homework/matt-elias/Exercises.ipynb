{
 "cells": [
  {
   "cell_type": "markdown",
   "metadata": {},
   "source": [
    "# Day 1"
   ]
  },
  {
   "cell_type": "markdown",
   "metadata": {},
   "source": [
    "#Exercise 1"
   ]
  },
  {
   "cell_type": "markdown",
   "metadata": {},
   "source": [
    "# Day 2"
   ]
  },
  {
   "cell_type": "markdown",
   "metadata": {},
   "source": [
    "#AR1 Processes"
   ]
  },
  {
   "cell_type": "code",
   "execution_count": 1,
   "metadata": {},
   "outputs": [
    {
     "ename": "KeyboardInterrupt",
     "evalue": "",
     "output_type": "error",
     "traceback": [
      "\u001b[0;31m---------------------------------------------------------------------------\u001b[0m",
      "\u001b[0;31mKeyboardInterrupt\u001b[0m                         Traceback (most recent call last)",
      "\u001b[0;32m<ipython-input-1-2ba305279e26>\u001b[0m in \u001b[0;36m<module>\u001b[0;34m\u001b[0m\n\u001b[1;32m     26\u001b[0m         \u001b[0mk\u001b[0m\u001b[0;34m[\u001b[0m\u001b[0mi\u001b[0m\u001b[0;34m]\u001b[0m \u001b[0;34m=\u001b[0m \u001b[0;36m0\u001b[0m\u001b[0;34m\u001b[0m\u001b[0;34m\u001b[0m\u001b[0m\n\u001b[1;32m     27\u001b[0m     \u001b[0mM\u001b[0m\u001b[0;34m[\u001b[0m\u001b[0mi\u001b[0m\u001b[0;34m]\u001b[0m \u001b[0;34m=\u001b[0m \u001b[0;34m(\u001b[0m\u001b[0msigma\u001b[0m\u001b[0;34m**\u001b[0m\u001b[0mk\u001b[0m\u001b[0;34m[\u001b[0m\u001b[0mi\u001b[0m\u001b[0;34m]\u001b[0m\u001b[0;34m)\u001b[0m\u001b[0;34m*\u001b[0m\u001b[0mdoublefactorial\u001b[0m\u001b[0;34m(\u001b[0m\u001b[0mk\u001b[0m\u001b[0;34m[\u001b[0m\u001b[0mi\u001b[0m\u001b[0;34m]\u001b[0m\u001b[0;34m-\u001b[0m\u001b[0;36m1\u001b[0m\u001b[0;34m)\u001b[0m\u001b[0;34m\u001b[0m\u001b[0;34m\u001b[0m\u001b[0m\n\u001b[0;32m---> 28\u001b[0;31m     \u001b[0merror\u001b[0m\u001b[0;34m[\u001b[0m\u001b[0mi\u001b[0m\u001b[0;34m]\u001b[0m \u001b[0;34m=\u001b[0m \u001b[0msum\u001b[0m\u001b[0;34m(\u001b[0m\u001b[0;34m(\u001b[0m\u001b[0mX\u001b[0m\u001b[0;34m-\u001b[0m\u001b[0mXbar\u001b[0m\u001b[0;34m)\u001b[0m\u001b[0;34m**\u001b[0m\u001b[0mk\u001b[0m\u001b[0;34m[\u001b[0m\u001b[0mi\u001b[0m\u001b[0;34m]\u001b[0m\u001b[0;34m)\u001b[0m\u001b[0;34m/\u001b[0m\u001b[0mlen\u001b[0m\u001b[0;34m(\u001b[0m\u001b[0mX\u001b[0m\u001b[0;34m)\u001b[0m \u001b[0;34m-\u001b[0m \u001b[0mM\u001b[0m\u001b[0;34m[\u001b[0m\u001b[0mi\u001b[0m\u001b[0;34m]\u001b[0m\u001b[0;34m\u001b[0m\u001b[0;34m\u001b[0m\u001b[0m\n\u001b[0m\u001b[1;32m     29\u001b[0m     \u001b[0mprint\u001b[0m\u001b[0;34m(\u001b[0m\u001b[0;34mf'The error in approximation for the {i+1}th moment, {M[i]}, is {error[i]}'\u001b[0m\u001b[0;34m)\u001b[0m\u001b[0;34m\u001b[0m\u001b[0;34m\u001b[0m\u001b[0m\n",
      "\u001b[0;31mKeyboardInterrupt\u001b[0m: "
     ]
    }
   ],
   "source": [
    "#Exercise 1\n",
    "\n",
    "import numpy as np\n",
    "\n",
    "mu = 3\n",
    "sigma = 0.6\n",
    "\n",
    "m = 10_000_000\n",
    "\n",
    "moment = 10\n",
    "\n",
    "def doublefactorial(n):\n",
    "     if n <= 0:\n",
    "         return 1\n",
    "     else:\n",
    "         return n * doublefactorial(n-2)\n",
    "\n",
    "X = mu + sigma*np.random.randn(m)\n",
    "Xbar = sum(X)/len(X)\n",
    "k = np.arange(1,moment+1,1)\n",
    "M = np.empty(len(k))\n",
    "error = np.empty(len(k))\n",
    "\n",
    "for i in range(len(k)):\n",
    "    if k[i]%2 != 0:\n",
    "        k[i] = 0\n",
    "    M[i] = (sigma**k[i])*doublefactorial(k[i]-1)\n",
    "    error[i] = sum((X-Xbar)**k[i])/len(X) - M[i]\n",
    "    print(f'The error in approximation for the {i+1}th moment, {M[i]}, is {error[i]}')"
   ]
  },
  {
   "cell_type": "code",
   "execution_count": null,
   "metadata": {},
   "outputs": [],
   "source": [
    "#Exercise 2\n",
    "\n",
    "import numpy as np\n",
    "import scipy as sc\n",
    "import matplotlib.pyplot as plt\n",
    "%matplotlib inline\n",
    "\n",
    "\n",
    "def kerneldensity(a,b,n=500):\n",
    "    X = sc.stats.beta.rvs(a, b, size=n)\n",
    "    grid_size = 1000\n",
    "    x = np.linspace(min(X)-np.std(X),max(X)+np.std(X),grid_size)\n",
    "\n",
    "    #1.06 rule of thumb\n",
    "    h = ((4/3)**1.5)*(n**-0.2)*np.std(X)\n",
    "\n",
    "    non_parametric = np.empty(grid_size)\n",
    "\n",
    "    for i, numbers in enumerate(x):\n",
    "        n_p = (1/(n*h))*sum(sc.stats.norm.pdf((X-numbers)/h))\n",
    "        non_parametric[i] = n_p\n",
    "\n",
    "    fig, ax = plt.subplots()\n",
    "    ax.plot(x,non_parametric)\n",
    "    ax.plot(x,sc.stats.beta.pdf(x,a,b))\n",
    "    ax.set_xlabel('x')\n",
    "    ax.set_ylabel('KDE(x),f(x)')\n",
    "    ax.set_title(f'Kerndel Density Estimate of Beta Distribution with Parameters {a,b}')\n",
    "    plt.show()\n",
    "\n",
    "α = [2,5,0.5]\n",
    "β = [2,5,0.5]\n",
    "\n",
    "for i in range(len(α)):\n",
    "    kerneldensity(α[i],β[i])"
   ]
  },
  {
   "cell_type": "code",
   "execution_count": null,
   "metadata": {},
   "outputs": [],
   "source": [
    "#Exercise 3\n",
    "\n",
    "import numpy as np\n",
    "import scipy as sc\n",
    "import matplotlib.pyplot as plt\n",
    "%matplotlib inline\n",
    "\n",
    "n=2000\n",
    "\n",
    "a = 0.9\n",
    "b= 0\n",
    "c = 0.1\n",
    "mu = -3\n",
    "s = 0.2\n",
    "\n",
    "W = np.random.randn(n)\n",
    "\n",
    "X = mu + s*np.random.randn(n)\n",
    "Y = a*mu+b + np.sqrt((a**2)*(s**2)+(c**2))*np.random.randn(n)\n",
    "\n",
    "X_t = a*X + b + c*W\n",
    "\n",
    "#kernel density estimation\n",
    "grid_size = n\n",
    "x = np.linspace(min(X_t)-np.std(X_t),max(X_t)+np.std(X_t),grid_size)\n",
    "\n",
    "#1.06 rule of thumb\n",
    "h = ((4/3)**1.5)*(n**-0.2)*np.std(X_t)\n",
    "\n",
    "non_parametric = np.empty(grid_size)\n",
    "\n",
    "for i, numbers in enumerate(x):\n",
    "    n_p = (1/(n*h))*sum(sc.stats.norm.pdf((X_t-numbers)/h))\n",
    "    non_parametric[i] = n_p\n",
    "    \n",
    "\n",
    "\n",
    "fig, ax = plt.subplots()\n",
    "ax.plot(x,non_parametric)\n",
    "ax.plot(x,sc.stats.norm.pdf(x,a*mu+b,(a**2)*(s**2)+(c**2)))\n",
    "ax.set_xlabel('x')\n",
    "ax.set_ylabel('KDE(x),f(x)')\n",
    "ax.set_title(f'Kerndel Density Estimate of One Step Ahead of AR(1) with N({a*mu+b,(a**2)*(s**2)+(c**2)})')\n",
    "ax.legend(['Kernel Density Estimate','True Distribution'])\n",
    "plt.show()\n",
    "    \n"
   ]
  },
  {
   "cell_type": "markdown",
   "metadata": {},
   "source": [
    "# Day 3"
   ]
  },
  {
   "cell_type": "markdown",
   "metadata": {},
   "source": [
    "# Day 4"
   ]
  },
  {
   "cell_type": "code",
   "execution_count": null,
   "metadata": {},
   "outputs": [],
   "source": []
  }
 ],
 "metadata": {
  "kernelspec": {
   "display_name": "Python 3",
   "language": "python",
   "name": "python3"
  },
  "language_info": {
   "codemirror_mode": {
    "name": "ipython",
    "version": 3
   },
   "file_extension": ".py",
   "mimetype": "text/x-python",
   "name": "python",
   "nbconvert_exporter": "python",
   "pygments_lexer": "ipython3",
   "version": "3.7.1"
  }
 },
 "nbformat": 4,
 "nbformat_minor": 2
}
