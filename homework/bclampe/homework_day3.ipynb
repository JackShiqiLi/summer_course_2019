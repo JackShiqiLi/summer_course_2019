{
 "cells": [
  {
   "cell_type": "markdown",
   "metadata": {},
   "source": [
    "# Homework day 3 - Bryn Lampe"
   ]
  },
  {
   "cell_type": "code",
   "execution_count": 153,
   "metadata": {},
   "outputs": [],
   "source": [
    "import numpy as np\n",
    "import matplotlib.pyplot as plt\n",
    "%matplotlib inline\n",
    "\n",
    "from numba import njit, jitclass, float64, prange\n",
    "from sklearn.neighbors import KernelDensity\n",
    "import quantecon as qe"
   ]
  },
  {
   "cell_type": "markdown",
   "metadata": {},
   "source": [
    "# Inventory Dynamics\n",
    "\n",
    "\n",
    "<a id='index-0'></a>"
   ]
  },
  {
   "cell_type": "code",
   "execution_count": 17,
   "metadata": {},
   "outputs": [],
   "source": [
    "firm_data = [\n",
    "   ('s', float64),          # restock trigger level\n",
    "   ('S', float64),          # capacity\n",
    "   ('mu', float64),         # shock location parameter\n",
    "   ('sigma', float64)       # shock scale parameter\n",
    "]\n",
    "\n",
    "\n",
    "@jitclass(firm_data)\n",
    "class Firm:\n",
    "\n",
    "    def __init__(self, s=10, S=100, mu=1.0, sigma=0.5):\n",
    "\n",
    "        self.s, self.S, self.mu, self.sigma = s, S, mu, sigma\n",
    "\n",
    "    def update(self, x):\n",
    "        \"Update the state from t to t+1 given current state x.\"\n",
    "\n",
    "        Z = np.random.randn()\n",
    "        D = np.exp(self.mu + self.sigma * Z)\n",
    "        if x <= self.s:\n",
    "            return max(self.S - D, 0)\n",
    "        else:\n",
    "            return max(x - D, 0)\n",
    "\n",
    "    def sim_inventory_path(self, x_init, sim_length):\n",
    "\n",
    "        X = np.empty(sim_length)\n",
    "        X[0] = x_init\n",
    "\n",
    "        for t in range(sim_length-1):\n",
    "            X[t+1] = self.update(X[t]) # when refer to a method defined in the class use self.method\n",
    "        return X\n",
    "    \n",
    "def plot_kde(sample, ax, label):\n",
    "\n",
    "    xmin, xmax = 0.9 * min(sample), 1.1 * max(sample)\n",
    "    xgrid = np.linspace(xmin, xmax, 200)\n",
    "    kde = KernelDensity(kernel='gaussian').fit(sample[:, None])\n",
    "    log_dens = kde.score_samples(xgrid[:, None])\n",
    "\n",
    "    ax.plot(xgrid, np.exp(log_dens), label=label)"
   ]
  },
  {
   "cell_type": "markdown",
   "metadata": {},
   "source": [
    "### Exercise 1\n",
    "\n",
    "This model is asymptotically stationary, with a unique stationary\n",
    "distribution.\n",
    "\n",
    "(This is the same concept we discussed in the lecture on AR(1) processes.)\n",
    "\n",
    "In particular, the sequence of marginal distributions $ \\{\\psi_t\\} $\n",
    "is converging to a unique limiting distribution that does not depend on\n",
    "initial conditions.\n",
    "\n",
    "Although we will not prove this here, we can investigate it using simulation.\n",
    "\n",
    "Your task is to generate and plot the sequence $ \\{\\psi_t\\} $ at times\n",
    "$ t = 10, 50, 250, 500, 750 $ based on the discussion above.\n",
    "\n",
    "(The kernel density estimator is probably the best way to present each\n",
    "distribution.)\n",
    "\n",
    "You should see convergence, in the sense that differences between successive distributions are getting smaller.\n",
    "\n",
    "Try different initial conditions to verify that, in the long run, the distribution is invariant across initial conditions."
   ]
  },
  {
   "cell_type": "code",
   "execution_count": 198,
   "metadata": {},
   "outputs": [
    {
     "name": "stderr",
     "output_type": "stream",
     "text": [
      "/Users/bclampe/opt/anaconda3/lib/python3.7/site-packages/numba/ir_utils.py:1959: NumbaPendingDeprecationWarning: \u001b[1m\n",
      "Encountered the use of a type that is scheduled for deprecation: type 'reflected list' found for argument 'time_periods' of function 'inventory_paths_simlation'.\n",
      "\n",
      "For more information visit http://numba.pydata.org/numba-doc/latest/reference/deprecation.html#deprecation-of-reflection-for-list-and-set-types\n",
      "\u001b[1m\n",
      "File \"<ipython-input-198-5d28e4b80c16>\", line 14:\u001b[0m\n",
      "\u001b[1m@njit\n",
      "\u001b[1mdef inventory_paths_simlation(firm, num_paths, num_samples,x_init, T, time_periods):\n",
      "\u001b[0m\u001b[1m^\u001b[0m\u001b[0m\n",
      "\u001b[0m\n",
      "  warnings.warn(NumbaPendingDeprecationWarning(msg, loc=loc))\n"
     ]
    },
    {
     "data": {
      "text/plain": [
       "<matplotlib.legend.Legend at 0x1a32acc310>"
      ]
     },
     "execution_count": 198,
     "metadata": {},
     "output_type": "execute_result"
    },
    {
     "data": {
      "image/png": "[encoded data removed]",
      "text/plain": [
       "<Figure size 432x288 with 1 Axes>"
      ]
     },
     "metadata": {
      "needs_background": "light"
     },
     "output_type": "display_data"
    }
   ],
   "source": [
    "firm = Firm()\n",
    "\n",
    "x_init = 50\n",
    "\n",
    "time_periods = [10, 50, 250, 500, 750]\n",
    "T = 750\n",
    "\n",
    "num_paths = 50_000\n",
    "num_samples = 5\n",
    "\n",
    "fig, ax = plt.subplots()\n",
    "                                         \n",
    "@njit\n",
    "def inventory_paths_simlation(firm, num_paths, num_samples,x_init, T, time_periods):\n",
    "    \n",
    "    sample = np.empty((num_paths, num_samples))\n",
    "    \n",
    "    for m in range(num_paths):\n",
    "        X = firm.sim_inventory_path(x_init, T+1)\n",
    "        for j in range(num_samples):\n",
    "            period = time_periods[j]\n",
    "            sample[m, j] = X[period]\n",
    "            \n",
    "    return sample\n",
    "\n",
    "sample = inventory_paths_simlation(firm, num_paths, num_samples, x_init, T, time_periods)\n",
    "            \n",
    "plot_kde(sample[:,0], ax, 'T=10')\n",
    "plot_kde(sample[:,1], ax, 'T=50')\n",
    "plot_kde(sample[:,2], ax, 'T=250')\n",
    "plot_kde(sample[:,3], ax, 'T=500')\n",
    "plot_kde(sample[:,4], ax, 'T=750')\n",
    "\n",
    "\n",
    "ax.legend(bbox_to_anchor=[1.05,1],loc=2,borderaxespad=1)"
   ]
  },
  {
   "cell_type": "markdown",
   "metadata": {},
   "source": [
    "### Exercise 2\n",
    "\n",
    "Using simulation, calculate the probability that firms that start with\n",
    "$ X_0 = 70 $ need to order twice or more in the first 50 periods.\n",
    "\n",
    "You will need a large sample size to get an accurate reading."
   ]
  },
  {
   "cell_type": "code",
   "execution_count": 196,
   "metadata": {},
   "outputs": [
    {
     "name": "stdout",
     "output_type": "stream",
     "text": [
      "0.959619\n"
     ]
    }
   ],
   "source": [
    "firm = Firm()\n",
    "\n",
    "T = 50\n",
    "x_init = 50\n",
    "num_paths = 1_000_000\n",
    "\n",
    "                                    \n",
    "\n",
    "@njit\n",
    "def restock_counter(firm, num_paths, x_init, T):    \n",
    "    \n",
    "    restock_times = np.empty(num_paths)\n",
    "    X_diff = np.empty(T)  \n",
    "    \n",
    "    for m in range(num_paths):\n",
    "        counter = 0\n",
    "        X = firm.sim_inventory_path(x_init, T+1)\n",
    "        for j in range(len(X)-1):\n",
    "            X_diff[j] = X[j] - X[j+1]\n",
    "            if X_diff[j] < 0:\n",
    "                counter += 1\n",
    "\n",
    "        restock_times[m] = counter\n",
    "        \n",
    "    return restock_times\n",
    "\n",
    "\n",
    "restock_times = restock_counter(firm, num_paths, x_init, T)\n",
    "\n",
    "prob = len(restock_times[ restock_times >= 2 ])/num_paths\n",
    "\n",
    "print(prob)"
   ]
  },
  {
   "cell_type": "code",
   "execution_count": 193,
   "metadata": {},
   "outputs": [],
   "source": []
  },
  {
   "cell_type": "code",
   "execution_count": 194,
   "metadata": {},
   "outputs": [
    {
     "name": "stdout",
     "output_type": "stream",
     "text": [
      "example (int64, int64)\n",
      "--------------------------------------------------------------------------------\n",
      "# File: <ipython-input-193-377e4a71dbc2>\n",
      "# --- LINE 1 --- \n",
      "# label 0\n",
      "\n",
      "@jit\n",
      "\n",
      "# --- LINE 2 --- \n",
      "\n",
      "def example(a,b):\n",
      "\n",
      "    # --- LINE 3 --- \n",
      "    #   a = arg(0, name=a)  :: int64\n",
      "    #   b = arg(1, name=b)  :: int64\n",
      "    #   $0.3 = a + b  :: int64\n",
      "    #   del b\n",
      "    #   del a\n",
      "    #   $0.4 = cast(value=$0.3)  :: int64\n",
      "    #   del $0.3\n",
      "    #   return $0.4\n",
      "\n",
      "    return a+b\n",
      "\n",
      "\n",
      "================================================================================\n"
     ]
    }
   ],
   "source": []
  },
  {
   "cell_type": "markdown",
   "metadata": {},
   "source": [
    "# Kesten processes"
   ]
  },
  {
   "cell_type": "markdown",
   "metadata": {},
   "source": [
    "### Exercise 1\n",
    "\n",
    "Simulate and plot 15 years of daily returns (consider each year as having 250\n",
    "working days) using the GARCH(1, 1) process in [(2)](#equation-garch11v)–[(3)](#equation-garch11r).\n",
    "\n",
    "Take $ \\xi_t $ and $ \\zeta_t $ to be independent and standard normal.\n",
    "\n",
    "Set $ \\alpha_0 = 0.00001, \\alpha_1 = 0.1, \\beta = 0.9 $ and $ \\sigma_0 = 0 $.\n",
    "\n",
    "Compare visually with the Nasdaq Composite Index returns [shown above](#ndcode).\n",
    "\n",
    "While the time path differs, you should see bursts of high volatility."
   ]
  },
  {
   "cell_type": "code",
   "execution_count": 149,
   "metadata": {},
   "outputs": [
    {
     "data": {
      "image/png": "[encoded data removed]",
      "text/plain": [
       "<Figure size 432x288 with 1 Axes>"
      ]
     },
     "metadata": {
      "needs_background": "light"
     },
     "output_type": "display_data"
    },
    {
     "data": {
      "image/png": "[encoded data removed]",
      "text/plain": [
       "<Figure size 432x288 with 1 Axes>"
      ]
     },
     "metadata": {
      "needs_background": "light"
     },
     "output_type": "display_data"
    }
   ],
   "source": [
    "years = 15\n",
    "days = 250\n",
    "\n",
    "T = years * days\n",
    "\n",
    "ξ = np.random.normal(0,1,T)\n",
    "ζ = np.random.normal(0,1,T)\n",
    "\n",
    "class SimulateGARCH:\n",
    "    \n",
    "    def __init__(self,α = [0.00001, 0.1],\n",
    "                      β = 0.9,\n",
    "                      θ_0 = 0):\n",
    "        self.α = α\n",
    "        self.β, self.θ_0 = β, θ_0\n",
    "        \n",
    "    def simulated_volatility(self, ξ,  T):\n",
    "        σ = np.empty(T)\n",
    "        σ[0] = self.θ_0\n",
    "        \n",
    "        for t in range(T-1):\n",
    "            σ[t+1] = self.α[0] + σ[t] * (self.α[1] * ξ[t+1]**2 + self.β)\n",
    "            \n",
    "        return σ\n",
    "    \n",
    "    def simulated_return(self, σ, ζ, T):\n",
    "        \n",
    "        return_vec = np.empty(T)\n",
    "        \n",
    "        for t in range(T-1):\n",
    "            return_vec[t+1] = np.sqrt(σ[t]) * ζ[t+1]\n",
    "            \n",
    "        return return_vec\n",
    "            \n",
    "            \n",
    "            \n",
    "\n",
    "sim_garch = SimulateGARCH()\n",
    "\n",
    "sim_volatility = sim_garch.simulated_volatility(ξ, T)\n",
    "sim_returns = sim_garch.simulated_return(sim_volatility, ζ, T)\n",
    "\n",
    "\n",
    "x1 = range(T)\n",
    "x2 = range(T)\n",
    "\n",
    "fig, ax1 = plt.subplots()\n",
    "fig, ax2 = plt.subplots()\n",
    "\n",
    "ax1.plot(x1, sim_volatility)\n",
    "ax2.plot(x2, sim_returns)\n",
    "\n",
    "\n",
    "plt.show()\n",
    "\n",
    "\n",
    "\n",
    "\n"
   ]
  },
  {
   "cell_type": "markdown",
   "metadata": {},
   "source": [
    "### Exercise 2\n",
    "\n",
    "In our discussion of firm dynamics, it was claimed that [(9)](#equation-firm-dynam) is more consistent with the empirical literature than Gibrat’s law in [(8)](#equation-firm-dynam-gb).\n",
    "\n",
    "(The empirical literature was reviewed immediately above [(9)](#equation-firm-dynam).)\n",
    "\n",
    "In what sense is this true (or false)?"
   ]
  },
  {
   "cell_type": "markdown",
   "metadata": {},
   "source": [
    "### Exercise 3\n",
    "\n",
    "Consider an arbitrary Kesten process as given in [(1)](#equation-kesproc).\n",
    "\n",
    "Suppose that $ \\{a_t\\} $ is lognormal with parameters $ (\\mu,\n",
    "\\sigma) $.\n",
    "\n",
    "In other words, each $ a_t $ has the same distribution as $ \\exp(\\mu + \\sigma Z) $ when $ Z $ is standard normal.\n",
    "\n",
    "Suppose further that $ \\mathbb E \\eta_t^r < \\infty $ for every $ r > 0 $, as\n",
    "would be the case if, say, $ \\eta_t $ is also lognormal.\n",
    "\n",
    "Show that the conditions of the Kesten–Goldie theorem are satisfied if and\n",
    "only if $ \\mu < 0 $.\n",
    "\n",
    "Obtain the value of $ \\alpha $ that makes the Kesten–Goldie conditions\n",
    "hold."
   ]
  },
  {
   "cell_type": "code",
   "execution_count": null,
   "metadata": {},
   "outputs": [],
   "source": []
  },
  {
   "cell_type": "markdown",
   "metadata": {},
   "source": [
    "### Exercise 4\n",
    "\n",
    "One unrealistic aspect of the firm dynamics specified in [(9)](#equation-firm-dynam) is\n",
    "that it ignores entry and exit.\n",
    "\n",
    "In any given period and in any given market, we observe significant numbers of firms entering and exiting the market.\n",
    "\n",
    "Empirical discussion of this can be found in a famous paper by Hugo Hopenhayn (1992, Econometrica).\n",
    "\n",
    "In the same paper, Hopenhayn builds a model of entry and exit that\n",
    "incorporates profit maximization by firms and market clearing quantities, wages and prices.\n",
    "\n",
    "In his model, a stationary equilibrium occurs when the number of entrants\n",
    "equals the number of exiting firms.\n",
    "\n",
    "In this setting, firm dynamics can be expressed as\n",
    "\n",
    "\n",
    "<a id='equation-firm-dynam-ee'></a>\n",
    "$$\n",
    "s_{t+1} = e_{t+1} \\mathbb{1}\\{s_t < \\bar s\\}\n",
    "    + (a_{t+1} s_t + b_{t+1}) \\mathbb{1}\\{s_t \\geq \\bar s\\} \\tag{10}\n",
    "$$\n",
    "\n",
    "Here\n",
    "\n",
    "- the state variable $ s_t $ is represents productivity (which is a proxy\n",
    "  for output and hence firm size),  \n",
    "- the IID sequence $ \\{ e_t \\} $ is thought of as a productivity draw for a new\n",
    "  entrant and  \n",
    "- the variable $ \\bar s $ is a threshold value that we take as given,\n",
    "  although it is determined endogenously in Hopenhayn’s model.  \n",
    "\n",
    "\n",
    "The idea behind [(10)](#equation-firm-dynam-ee) is that firms stay in the market as long\n",
    "as their productivity $ s_t $ remains at or above $ \\bar s $.\n",
    "\n",
    "- In this case, their productivity updates according to [(9)](#equation-firm-dynam).  \n",
    "\n",
    "\n",
    "Firms choose to exit when their productivity $ s_t $ falls below $ \\bar s $.\n",
    "\n",
    "- In this case, they are replaced by a new firm with productivity\n",
    "  $ e_{t+1} $.  \n",
    "\n",
    "\n",
    "What can we say about dynamics?\n",
    "\n",
    "Although [(10)](#equation-firm-dynam-ee) is not a Kesten process, it does update in the\n",
    "same way as a Kesten process when $ s_t $ is large.\n",
    "\n",
    "So perhaps its stationary distribution still has Pareto tails?\n",
    "\n",
    "Your task is to investigate this question via simulation and rank-size plots.\n",
    "\n",
    "The approach will be to\n",
    "\n",
    "1. generate $ M $ draws of $ s_T $ when $ M $ and $ T $ are\n",
    "  large and  \n",
    "1. plot the largest 1,000 of the resulting draws in a rank-size plot.  \n",
    "\n",
    "\n",
    "(The distribution of $ s_T $ will be close to the stationary distribution\n",
    "when $ T $ is large.)\n",
    "\n",
    "In the simulation, assume that\n",
    "\n",
    "- each of $ a_t, b_t $ and $ e_t $ is lognormal,  \n",
    "- the parameters are  "
   ]
  },
  {
   "cell_type": "code",
   "execution_count": 162,
   "metadata": {},
   "outputs": [
    {
     "data": {
      "text/plain": [
       "[<matplotlib.lines.Line2D at 0x124631790>]"
      ]
     },
     "execution_count": 162,
     "metadata": {},
     "output_type": "execute_result"
    },
    {
     "data": {
      "image/png": "[encoded data removed]",
      "text/plain": [
       "<Figure size 432x288 with 1 Axes>"
      ]
     },
     "metadata": {
      "needs_background": "light"
     },
     "output_type": "display_data"
    }
   ],
   "source": [
    "T = 500          # sampling date\n",
    "M = 1_000_000     # number of firms\n",
    "\n",
    "\n",
    "firm_data = [\n",
    "   ('μ_a', float64),          \n",
    "   ('σ_a', float64),         \n",
    "   ('μ_b', float64),        \n",
    "   ('σ_b', float64),\n",
    "   ('μ_e', float64),        \n",
    "   ('σ_e', float64),\n",
    "   ('s_bar', float64),         \n",
    "   ('s_init', float64)]\n",
    "\n",
    "\n",
    "@jitclass(firm_data)\n",
    "class Hopenhayn:\n",
    "    \n",
    "    def __init__(self,μ_a = -0.5,        # location parameter for a\n",
    "                      σ_a = 0.1,        # scale parameter for a\n",
    "                      μ_b = 0.0,         # location parameter for b\n",
    "                      σ_b = 0.5,         # scale parameter for b\n",
    "                      μ_e = 0.0,         # location parameter for e\n",
    "                      σ_e = 0.5,         # scale parameter for e\n",
    "                      s_bar = 1.0,       # threshold\n",
    "                      s_init = 1.0):     # initial condition for each firm):\n",
    "        self.μ_a, self.σ_a = μ_a, σ_a\n",
    "        self.μ_b, self.σ_b = μ_b, σ_b\n",
    "        self.μ_e, self.σ_e = μ_e, σ_e\n",
    "        self.s_bar, self.s_init = s_bar, s_init\n",
    "        \n",
    "    def productivity_draws(self, T):\n",
    "        a = np.exp(self.μ_a + self.σ_a * np.random.normal(0, 1, T))\n",
    "        b = np.exp(self.μ_b + self.σ_b * np.random.normal(0, 1, T))\n",
    "        e = np.exp(self.μ_e + self.σ_e * np.random.normal(0, 1, T))\n",
    "        \n",
    "        return a, b, e\n",
    "        \n",
    "    def firm_dynamics(self, T):\n",
    "        \n",
    "        s = np.empty(T)\n",
    "        s[0] = self.s_init\n",
    "        \n",
    "        a, b, e = self.productivity_draws(T)\n",
    "        \n",
    "        for t in range(T-1):\n",
    "            if s[t] < self.s_bar:\n",
    "                s[t+1] = e[t+1]\n",
    "            else:\n",
    "                s[t+1] = a[t+1] * s[t] + b[t+1]\n",
    "        return s[t]\n",
    "        \n",
    "        \n",
    "hop_inst = Hopenhayn()\n",
    "\n",
    "\n",
    "@njit(parallel=True)\n",
    "def final_firm_size(hop_inst, M):\n",
    "    \n",
    "    firm_size = np.empty(M)\n",
    "    \n",
    "    for m in prange(M):\n",
    "        firm_size[m] = hop_inst.firm_dynamics(T)\n",
    "        \n",
    "    return firm_size\n",
    "\n",
    "firm_size = final_firm_size(hop_inst, M) \n",
    "\n",
    "firm_size = np.sort(firm_size)[::-1]\n",
    "firm_size = np.log(firm_size[:1000])\n",
    "\n",
    "x = np.log(range(1,1001,1))\n",
    "\n",
    "fig, ax = plt.subplots()\n",
    "\n",
    "ax.plot(x,firm_size,'o')\n"
   ]
  },
  {
   "cell_type": "markdown",
   "metadata": {},
   "source": [
    "# Wealth dynamics"
   ]
  },
  {
   "cell_type": "markdown",
   "metadata": {},
   "source": [
    "### Exercise 1\n",
    "\n",
    "For a wealth or income distribution with Pareto tail, a higher tail index suggests lower inequality.\n",
    "\n",
    "Indeed, it is possible to prove that the Gini coefficient of the Pareto\n",
    "distribution with tail index $ a $ is $ 1/(2a - 1) $.\n",
    "\n",
    "To the extent that you can, confirm this by simulation.\n",
    "\n",
    "In particular, generate a plot of the Gini coefficient against the tail index\n",
    "using both the theoretical value just given and the value computed from a sample via `qe.gini_coefficient`.\n",
    "\n",
    "For the values of the tail index, use `a_vals = np.linspace(1, 10, 25)`.\n",
    "\n",
    "Use sample of size 1,000 for each $ a $ and the sampling method for generating Pareto draws employed in the discussion of Lorenz curves for the Pareto distribution.\n",
    "\n",
    "To the extend that you can, interpret the monotone relationship between the\n",
    "Gini index and $ a $."
   ]
  },
  {
   "cell_type": "code",
   "execution_count": 155,
   "metadata": {},
   "outputs": [
    {
     "data": {
      "image/png": "[encoded data removed]",
      "text/plain": [
       "<Figure size 432x288 with 1 Axes>"
      ]
     },
     "metadata": {
      "needs_background": "light"
     },
     "output_type": "display_data"
    }
   ],
   "source": [
    "a_vals = np.linspace(1, 10, 25)\n",
    "ginis = []\n",
    "ginis_theoretical = []\n",
    "n = 1000\n",
    "\n",
    "fig, ax = plt.subplots()\n",
    "\n",
    "for a in a_vals:\n",
    "    u = np.random.uniform(size=n)\n",
    "    y = u**(-1/a)\n",
    "    ginis.append(qe.gini_coefficient(y))\n",
    "    ginis_theoretical.append(1 - 2**(-1/a))\n",
    "\n",
    "ax.plot(a_vals, ginis, label='estimated gini coefficient')\n",
    "ax.plot(a_vals, ginis_theoretical, label='theoretical gini coefficient')\n",
    "ax.legend()\n",
    "ax.set_xlabel(\"Weibull parameter $a$\")\n",
    "ax.set_ylabel(\"Gini coefficient\")\n",
    "plt.show()\n"
   ]
  },
  {
   "cell_type": "markdown",
   "metadata": {},
   "source": [
    "### Exercise 2\n",
    "\n",
    "The wealth process [(1)](#equation-wealth-dynam-ah) is similar to a [Kesten process](kesten_processes.ipynb).\n",
    "\n",
    "This is because, according to [(2)](#equation-sav-ah), savings is constant for all wealth levels above $ \\hat w $.\n",
    "\n",
    "When savings is constant, the wealth process has the same quasi-linear\n",
    "structure as a Kesten process, with multiplicative and additive shocks.\n",
    "\n",
    "The Kesten–Goldie theorem tells us that Kesten processes have Pareto tails under a range of parameterizations.\n",
    "\n",
    "The theorem does not directly apply here, since savings is not always constant and since the multiplicative and additive terms in [(1)](#equation-wealth-dynam-ah) are not IID.\n",
    "\n",
    "At the same time, given the similarities, perhaps Pareto tails will arise.\n",
    "\n",
    "To test this, run a simulation that generates a cross-section of wealth and\n",
    "generate a rank-size plot.\n",
    "\n",
    "In viewing the plot, remember that Pareto tails generate a straight line.  Is\n",
    "this what you see?\n",
    "\n",
    "For sample size and initial conditions, use"
   ]
  },
  {
   "cell_type": "code",
   "execution_count": 156,
   "metadata": {},
   "outputs": [],
   "source": [
    "wealth_dynamics_data = [\n",
    "    ('w_hat',  float64),    # savings parameter\n",
    "    ('s_0',    float64),    # savings parameter\n",
    "    ('c_y',    float64),    # labor income parameter\n",
    "    ('μ_y',    float64),    # labor income paraemter\n",
    "    ('σ_y',    float64),    # labor income parameter\n",
    "    ('c_r',    float64),    # rate of return parameter\n",
    "    ('μ_r',    float64),    # rate of return parameter\n",
    "    ('σ_r',    float64),    # rate of return parameter\n",
    "    ('a',      float64),    # aggregate shock parameter\n",
    "    ('b',      float64),    # aggregate shock parameter\n",
    "    ('σ_z',    float64),    # aggregate shock parameter\n",
    "    ('z_mean', float64),    # mean of z process\n",
    "    ('z_var', float64),     # variance of z process\n",
    "    ('y_mean', float64),    # mean of y process\n",
    "    ('R_mean', float64)     # mean of R process\n",
    "]\n",
    "\n",
    "@jitclass(wealth_dynamics_data)\n",
    "class WealthDynamics:\n",
    "\n",
    "    def __init__(self,\n",
    "                 w_hat=1.0,\n",
    "                 s_0=0.75,\n",
    "                 c_y=1.0,\n",
    "                 μ_y=1.0,\n",
    "                 σ_y=0.2,\n",
    "                 c_r=0.05,\n",
    "                 μ_r=0.1,\n",
    "                 σ_r=0.5,\n",
    "                 a=0.5,\n",
    "                 b=0.0,\n",
    "                 σ_z=0.1):\n",
    "\n",
    "        self.w_hat, self.s_0 = w_hat, s_0\n",
    "        self.c_y, self.μ_y, self.σ_y = c_y, μ_y, σ_y\n",
    "        self.c_r, self.μ_r, self.σ_r = c_r, μ_r, σ_r\n",
    "        self.a, self.b, self.σ_z = a, b, σ_z\n",
    "\n",
    "        # Record stationary moments\n",
    "        self.z_mean = b / (1 - a)\n",
    "        self.z_var = σ_z**2 / (1 - a**2)\n",
    "        exp_z_mean = np.exp(self.z_mean + self.z_var / 2)\n",
    "        self.R_mean = c_r * exp_z_mean + np.exp(μ_r + σ_r**2 / 2)\n",
    "        self.y_mean = c_y * exp_z_mean + np.exp(μ_y + σ_y**2 / 2)\n",
    "\n",
    "        # Test a stability condition that ensures wealth does not diverge\n",
    "        # to infinity.\n",
    "        α = self.R_mean * self.s_0\n",
    "        if α >= 1:\n",
    "            raise ValueError(\"Stability condition failed.\")\n",
    "\n",
    "    def parameters(self):\n",
    "        \"\"\"\n",
    "        Collect and return parameters.\n",
    "        \"\"\"\n",
    "        parameters = (self.w_hat, self.s_0,\n",
    "                      self.c_y, self.μ_y, self.σ_y,\n",
    "                      self.c_r, self.μ_r, self.σ_r,\n",
    "                      self.a, self.b, self.σ_z)\n",
    "        return parameters\n",
    "\n",
    "    def update_states(self, w, z):\n",
    "        \"\"\"\n",
    "        Update one period, given current wealth w and persistent\n",
    "        state z.\n",
    "        \"\"\"\n",
    "\n",
    "        # Simplify names\n",
    "        params = self.parameters()\n",
    "        w_hat, s_0, c_y, μ_y, σ_y, c_r, μ_r, σ_r, a, b, σ_z = params\n",
    "        zp = a * z + b + σ_z * np.random.randn()\n",
    "\n",
    "        # Update wealth\n",
    "        y = c_y * np.exp(zp) + np.exp(μ_y + σ_y * np.random.randn())\n",
    "        wp = y\n",
    "        if w >= w_hat:\n",
    "            R = c_r * np.exp(zp) + np.exp(μ_r + σ_r * np.random.randn())\n",
    "            wp += R * s_0 * w\n",
    "        return wp, zp\n",
    "    \n",
    "@njit\n",
    "def wealth_time_series(wdy, w_0, n):\n",
    "    \"\"\"\n",
    "    Generate a single time series of length n for wealth given\n",
    "    initial value w_0.\n",
    "\n",
    "    The initial persistent state z_0 for each household is drawn from\n",
    "    the stationary distribution of the AR(1) process.\n",
    "\n",
    "        * wdy: an instance of WealthDynamics\n",
    "        * w_0: scalar\n",
    "        * n: int\n",
    "\n",
    "\n",
    "    \"\"\"\n",
    "    z = wdy.z_mean + np.sqrt(wdy.z_var) * np.random.randn()\n",
    "    w = np.empty(n)\n",
    "    w[0] = w_0\n",
    "    for t in range(n-1):\n",
    "        w[t+1], z = wdy.update_states(w[t], z)\n",
    "    return w\n",
    "\n",
    "@njit(parallel=True)\n",
    "def update_cross_section(wdy, w_distribution, shift_length=500):\n",
    "    \"\"\"\n",
    "    Shifts a cross-section of household forward in time\n",
    "\n",
    "    * wdy: an instance of WealthDynamics\n",
    "    * w_distribution: array_like, represents current cross-section\n",
    "\n",
    "    Takes a current distribution of wealth values as w_distribution\n",
    "    and updates each w_t in w_distribution to w_{t+j}, where\n",
    "    j = shift_length.\n",
    "\n",
    "    Returns the new distribution.\n",
    "\n",
    "    \"\"\"\n",
    "    new_distribution = np.empty_like(w_distribution)\n",
    "\n",
    "    # Update each household\n",
    "    for i in prange(len(new_distribution)):\n",
    "        z = wdy.z_mean + np.sqrt(wdy.z_var) * np.random.randn()\n",
    "        w = w_distribution[i]\n",
    "        for t in range(shift_length-1):\n",
    "            w, z = wdy.update_states(w, z)\n",
    "        new_distribution[i] = w\n",
    "    return new_distribution"
   ]
  },
  {
   "cell_type": "code",
   "execution_count": 158,
   "metadata": {},
   "outputs": [
    {
     "data": {
      "text/plain": [
       "[<matplotlib.lines.Line2D at 0x124c7cd10>]"
      ]
     },
     "execution_count": 158,
     "metadata": {},
     "output_type": "execute_result"
    },
    {
     "data": {
      "image/png": "[encoded data removed]",
      "text/plain": [
       "<Figure size 432x288 with 1 Axes>"
      ]
     },
     "metadata": {
      "needs_background": "light"
     },
     "output_type": "display_data"
    }
   ],
   "source": [
    "wdy = WealthDynamics()\n",
    "\n",
    "num_households = 250_000\n",
    "T = 500                                      # shift forward T periods\n",
    "ψ_0 = np.ones(num_households) * wdy.y_mean   # initial distribution\n",
    "z_0 = wdy.z_mean\n",
    "\n",
    "\n",
    "new_distribution = update_cross_section(wdy, ψ_0, T)\n",
    "\n",
    "new_distribution = np.sort(new_distribution)[::-1]\n",
    "new_distribution = np.log(new_distribution[:1000])\n",
    "\n",
    "x = np.log(range(1,1001,1))\n",
    "\n",
    "fig, ax = plt.subplots()\n",
    "\n",
    "ax.plot(x,new_distribution, 'o')\n"
   ]
  },
  {
   "cell_type": "code",
   "execution_count": null,
   "metadata": {},
   "outputs": [],
   "source": []
  }
 ],
 "metadata": {
  "kernelspec": {
   "display_name": "Python 3",
   "language": "python",
   "name": "python3"
  },
  "language_info": {
   "codemirror_mode": {
    "name": "ipython",
    "version": 3
   },
   "file_extension": ".py",
   "mimetype": "text/x-python",
   "name": "python",
   "nbconvert_exporter": "python",
   "pygments_lexer": "ipython3",
   "version": "3.7.4"
  }
 },
 "nbformat": 4,
 "nbformat_minor": 2
}
