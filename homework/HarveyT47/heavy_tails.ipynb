{
 "cells": [
  {
   "cell_type": "markdown",
   "metadata": {},
   "source": [
    "\n",
    "<a id='heavy-tails'></a>\n",
    "<div id=\"qe-notebook-header\" align=\"right\" style=\"text-align:right;\">\n",
    "        <a href=\"https://quantecon.org/\" title=\"quantecon.org\">\n",
    "                <img style=\"width:250px;display:inline;\" width=\"250px\" src=\"https://assets.quantecon.org/img/qe-menubar-logo.svg\" alt=\"QuantEcon\">\n",
    "        </a>\n",
    "</div>"
   ]
  },
  {
   "cell_type": "markdown",
   "metadata": {},
   "source": [
    "# Heavy-Tailed Distributions\n",
    "\n",
    "\n",
    "<a id='index-0'></a>"
   ]
  },
  {
   "cell_type": "markdown",
   "metadata": {},
   "source": [
    "## Contents\n",
    "\n",
    "- [Heavy-Tailed Distributions](#Heavy-Tailed-Distributions)  \n",
    "  - [Overview](#Overview)  \n",
    "  - [Visual Comparisons](#Visual-Comparisons)  \n",
    "  - [Failure of the LLN](#Failure-of-the-LLN)  \n",
    "  - [Classifying Tail Properties](#Classifying-Tail-Properties)  \n",
    "  - [Exercises](#Exercises)  \n",
    "  - [Solutions](#Solutions)  "
   ]
  },
  {
   "cell_type": "markdown",
   "metadata": {},
   "source": [
    "In addition to what’s in Anaconda, this lecture will need the following libraries:"
   ]
  },
  {
   "cell_type": "code",
   "execution_count": 1,
   "metadata": {
    "hide-output": true
   },
   "outputs": [
    {
     "name": "stdout",
     "output_type": "stream",
     "text": [
      "Requirement already up-to-date: quantecon in c:\\users\\harve\\appdata\\roaming\\python\\python36\\site-packages (0.4.6)\n",
      "Requirement already satisfied, skipping upgrade: numba>=0.38 in c:\\program files (x86)\\microsoft visual studio\\shared\\anaconda3_64\\lib\\site-packages (from quantecon) (0.38.0)\n",
      "Requirement already satisfied, skipping upgrade: numpy in c:\\users\\harve\\appdata\\roaming\\python\\python36\\site-packages (from quantecon) (1.17.4)\n",
      "Requirement already satisfied, skipping upgrade: requests in c:\\program files (x86)\\microsoft visual studio\\shared\\anaconda3_64\\lib\\site-packages (from quantecon) (2.22.0)\n",
      "Requirement already satisfied, skipping upgrade: scipy>=1.0.0 in c:\\users\\harve\\appdata\\roaming\\python\\python36\\site-packages (from quantecon) (1.2.0)\n",
      "Requirement already satisfied, skipping upgrade: sympy in c:\\users\\harve\\appdata\\roaming\\python\\python36\\site-packages (from quantecon) (1.3)\n",
      "Requirement already satisfied, skipping upgrade: llvmlite>=0.23.0dev0 in c:\\program files (x86)\\microsoft visual studio\\shared\\anaconda3_64\\lib\\site-packages (from numba>=0.38->quantecon) (0.23.2+1.g67a89c7)\n",
      "Requirement already satisfied, skipping upgrade: certifi>=2017.4.17 in c:\\program files (x86)\\microsoft visual studio\\shared\\anaconda3_64\\lib\\site-packages (from requests->quantecon) (2019.9.11)\n",
      "Requirement already satisfied, skipping upgrade: idna<2.9,>=2.5 in c:\\program files (x86)\\microsoft visual studio\\shared\\anaconda3_64\\lib\\site-packages (from requests->quantecon) (2.8)\n",
      "Requirement already satisfied, skipping upgrade: urllib3!=1.25.0,!=1.25.1,<1.26,>=1.21.1 in c:\\program files (x86)\\microsoft visual studio\\shared\\anaconda3_64\\lib\\site-packages (from requests->quantecon) (1.24.2)\n",
      "Requirement already satisfied, skipping upgrade: chardet<3.1.0,>=3.0.2 in c:\\program files (x86)\\microsoft visual studio\\shared\\anaconda3_64\\lib\\site-packages (from requests->quantecon) (3.0.4)\n",
      "Requirement already satisfied, skipping upgrade: mpmath>=0.19 in c:\\users\\harve\\appdata\\roaming\\python\\python36\\site-packages (from sympy->quantecon) (1.1.0)\n",
      "Requirement already up-to-date: yfinance in c:\\users\\harve\\appdata\\roaming\\python\\python36\\site-packages (0.1.54)\n",
      "Requirement already satisfied, skipping upgrade: numpy>=1.15 in c:\\users\\harve\\appdata\\roaming\\python\\python36\\site-packages (from yfinance) (1.17.4)\n",
      "Requirement already satisfied, skipping upgrade: multitasking>=0.0.7 in c:\\users\\harve\\appdata\\roaming\\python\\python36\\site-packages (from yfinance) (0.0.9)\n",
      "Requirement already satisfied, skipping upgrade: pandas>=0.24 in c:\\users\\harve\\appdata\\roaming\\python\\python36\\site-packages (from yfinance) (0.25.3)\n",
      "Requirement already satisfied, skipping upgrade: requests>=2.20 in c:\\program files (x86)\\microsoft visual studio\\shared\\anaconda3_64\\lib\\site-packages (from yfinance) (2.22.0)\n",
      "Requirement already satisfied, skipping upgrade: pytz>=2017.2 in c:\\users\\harve\\appdata\\roaming\\python\\python36\\site-packages (from pandas>=0.24->yfinance) (2018.7)\n",
      "Requirement already satisfied, skipping upgrade: python-dateutil>=2.6.1 in c:\\users\\harve\\appdata\\roaming\\python\\python36\\site-packages (from pandas>=0.24->yfinance) (2.7.5)\n",
      "Requirement already satisfied, skipping upgrade: urllib3!=1.25.0,!=1.25.1,<1.26,>=1.21.1 in c:\\program files (x86)\\microsoft visual studio\\shared\\anaconda3_64\\lib\\site-packages (from requests>=2.20->yfinance) (1.24.2)\n",
      "Requirement already satisfied, skipping upgrade: chardet<3.1.0,>=3.0.2 in c:\\program files (x86)\\microsoft visual studio\\shared\\anaconda3_64\\lib\\site-packages (from requests>=2.20->yfinance) (3.0.4)\n",
      "Requirement already satisfied, skipping upgrade: certifi>=2017.4.17 in c:\\program files (x86)\\microsoft visual studio\\shared\\anaconda3_64\\lib\\site-packages (from requests>=2.20->yfinance) (2019.9.11)\n",
      "Requirement already satisfied, skipping upgrade: idna<2.9,>=2.5 in c:\\program files (x86)\\microsoft visual studio\\shared\\anaconda3_64\\lib\\site-packages (from requests>=2.20->yfinance) (2.8)\n",
      "Requirement already satisfied, skipping upgrade: six>=1.5 in c:\\program files (x86)\\microsoft visual studio\\shared\\anaconda3_64\\lib\\site-packages (from python-dateutil>=2.6.1->pandas>=0.24->yfinance) (1.13.0)\n"
     ]
    }
   ],
   "source": [
    "!pip install --upgrade quantecon --user\n",
    "!pip install --upgrade yfinance --user"
   ]
  },
  {
   "cell_type": "code",
   "execution_count": null,
   "metadata": {},
   "outputs": [],
   "source": []
  },
  {
   "cell_type": "markdown",
   "metadata": {},
   "source": [
    "## Overview\n",
    "\n",
    "Most commonly used probability distributions in classical statistics and\n",
    "the natural sciences have either bounded support or light tails.\n",
    "\n",
    "When a distribution is light-tailed, extreme observations are rare and\n",
    "draws tend not to deviate too much from the mean.\n",
    "\n",
    "Having internalized these kinds of distributions, many researchers and\n",
    "practitioners use rules of thumb such as “outcomes more than four or five\n",
    "standard deviations from the mean can safely be ignored.”\n",
    "\n",
    "However, some distributions encountered in economics have far more probability\n",
    "mass in the tails than distributions like the normal distribution.\n",
    "\n",
    "With such **heavy-tailed** distributions, what would be regarded as extreme\n",
    "outcomes for someone accustomed to thin tailed distributions occur relatively\n",
    "frequently.\n",
    "\n",
    "Examples of heavy-tailed distributions observed in economic and financial\n",
    "settings include\n",
    "\n",
    "- the income distributions and the wealth distribution (see, e.g., [[Vil96]](zreferences.ipynb#pareto1896cours), [[BB18]](zreferences.ipynb#benhabib2018skewed)),  \n",
    "- the firm size distribution ([[Axt01]](zreferences.ipynb#axtell2001zipf), [[Gab16]](zreferences.ipynb#gabaix2016power)}),  \n",
    "- the distribution of returns on holding assets over short time horizons ([[Man63]](zreferences.ipynb#mandelbrot1963variation), [[Rac03]](zreferences.ipynb#rachev2003handbook)), and  \n",
    "- the distribution of city sizes ([[RRGM11]](zreferences.ipynb#rozenfeld2011area), [[Gab16]](zreferences.ipynb#gabaix2016power)).  \n",
    "\n",
    "\n",
    "These heavy tails turn out to be important for our understanding of economic outcomes.\n",
    "\n",
    "As one example, the heaviness of the tail in the wealth distribution is one\n",
    "natural measure of inequality.\n",
    "\n",
    "It matters for taxation and redistribution\n",
    "policies, as well as for flow-on effects for productivity growth, business\n",
    "cycles, and political economy\n",
    "\n",
    "- see, e.g., [[AR02]](zreferences.ipynb#acemoglu2002political), [[GSS03]](zreferences.ipynb#glaeser2003injustice), [[BEGS18]](zreferences.ipynb#bhandari2018inequality) or [[AKM+18]](zreferences.ipynb#ahn2018inequality).  \n",
    "\n",
    "\n",
    "This lecture formalizes some of the concepts introduced above and reviews the\n",
    "key ideas.\n",
    "\n",
    "Let’s start with some imports:"
   ]
  },
  {
   "cell_type": "code",
   "execution_count": 2,
   "metadata": {
    "hide-output": false
   },
   "outputs": [],
   "source": [
    "import numpy as np\n",
    "import matplotlib.pyplot as plt\n",
    "%matplotlib inline"
   ]
  },
  {
   "cell_type": "markdown",
   "metadata": {},
   "source": [
    "The following two lines can be added to avoid an annoying FutureWarning, and prevent a specific compatibility issue between pandas and matplotlib from causing problems down the line:"
   ]
  },
  {
   "cell_type": "code",
   "execution_count": 3,
   "metadata": {
    "hide-output": false
   },
   "outputs": [],
   "source": [
    "from pandas.plotting import register_matplotlib_converters\n",
    "register_matplotlib_converters()"
   ]
  },
  {
   "cell_type": "markdown",
   "metadata": {},
   "source": [
    "## Visual Comparisons\n",
    "\n",
    "One way to build intuition on the difference between light and heavy tails is\n",
    "to plot independent draws and compare them side-by-side."
   ]
  },
  {
   "cell_type": "markdown",
   "metadata": {},
   "source": [
    "### A Simulation\n",
    "\n",
    "The figure below shows a simulation.  (You will be asked to replicate it in\n",
    "the exercises.)\n",
    "\n",
    "The top two subfigures each show 120 independent draws from the normal distribution, which is light-tailed.\n",
    "\n",
    "The bottom subfigure shows 120 independent draws from [the Cauchy distribution](https://en.wikipedia.org/wiki/Cauchy_distribution), which is heavy-tailed.\n",
    "\n",
    "\n",
    "<a id='light-heavy-fig1'></a>\n",
    "![light_heavy_fig1.png](figures/light_heavy_fig1.png)  \n",
    "In the top subfigure, the standard deviation of the normal distribution is 2,\n",
    "and the draws are clustered around the mean.\n",
    "\n",
    "In the middle subfigure, the standard deviation is increased to 12 and, as expected, the amount of dispersion rises.\n",
    "\n",
    "The bottom subfigure, with the Cauchy draws, shows a\n",
    "different pattern: tight clustering around the mean for the great majority of\n",
    "observations, combined with a few sudden large deviations from the mean.\n",
    "\n",
    "This is typical of a heavy-tailed distribution."
   ]
  },
  {
   "cell_type": "markdown",
   "metadata": {},
   "source": [
    "### Heavy Tails in Asset Returns\n",
    "\n",
    "Next let’s look at some financial data.\n",
    "\n",
    "Our aim is to plot the daily change in the price of Amazon (AMZN) stock for\n",
    "the period from 1st January 2015 to 1st November 2019.\n",
    "\n",
    "This equates to daily returns if we set dividends aside.\n",
    "\n",
    "The code below produces the desired plot using Yahoo financial data via the `yfinance` library."
   ]
  },
  {
   "cell_type": "code",
   "execution_count": 4,
   "metadata": {
    "hide-output": false
   },
   "outputs": [
    {
     "name": "stdout",
     "output_type": "stream",
     "text": [
      "[*********************100%***********************]  1 of 1 completed\n"
     ]
    },
    {
     "data": {
      "image/png": "[encoded data removed]",
      "text/plain": [
       "<Figure size 432x288 with 1 Axes>"
      ]
     },
     "metadata": {
      "needs_background": "light"
     },
     "output_type": "display_data"
    },
    {
     "data": {
      "text/plain": [
       "pandas.core.series.Series"
      ]
     },
     "execution_count": 4,
     "metadata": {},
     "output_type": "execute_result"
    }
   ],
   "source": [
    "import yfinance as yf\n",
    "import pandas as pd\n",
    "\n",
    "s = yf.download('AMZN', '2015-1-1', '2019-11-1')['Adj Close']\n",
    "\n",
    "r = s.pct_change()\n",
    "\n",
    "fig, ax = plt.subplots()\n",
    "\n",
    "ax.plot(r, linestyle='', marker='o', alpha=0.5, ms=4)\n",
    "ax.vlines(r.index, 0, r.values, lw=0.2)\n",
    "\n",
    "ax.set_ylabel('returns', fontsize=12)\n",
    "ax.set_xlabel('date', fontsize=12)\n",
    "\n",
    "plt.show()\n",
    "\n",
    "type(r)"
   ]
  },
  {
   "cell_type": "markdown",
   "metadata": {},
   "source": [
    "Five of the 1217 observations are more than 5 standard\n",
    "deviations from the mean.\n",
    "\n",
    "Overall, the figure is suggestive of heavy tails,\n",
    "although not to the same degree as the Cauchy distribution the\n",
    "figure above.\n",
    "\n",
    "If, however, one takes tick-by-tick data rather\n",
    "daily data, the heavy-tailedness of the distribution increases further."
   ]
  },
  {
   "cell_type": "markdown",
   "metadata": {},
   "source": [
    "## Failure of the LLN\n",
    "\n",
    "One impact of heavy tails is that sample averages can be poor estimators of\n",
    "the underlying mean of the distribution.\n",
    "\n",
    "To understand this point better, recall [our earlier discussion](lln_clt.ipynb) of the Law of Large Numbers, which considered IID $ X_1,\n",
    "\\ldots, X_n $ with common distribution $ F $\n",
    "\n",
    "If $ \\mathbb E |X_i| $ is finite, then\n",
    "the sample mean $ \\bar X_n := \\frac{1}{n} \\sum_{i=1}^n X_i $ satisfies\n",
    "\n",
    "\n",
    "<a id='equation-lln-as2'></a>\n",
    "$$\n",
    "\\mathbb P \\left\\{ \\bar X_n \\to \\mu \\text{ as } n \\to \\infty \\right\\} = 1 \\tag{1}\n",
    "$$\n",
    "\n",
    "where $ \\mu := \\mathbb E X_i = \\int x F(x) $ is the common mean of the sample.\n",
    "\n",
    "The condition $ \\mathbb E | X_i | = \\int |x| F(x) < \\infty $ holds\n",
    "in most cases but can fail if the distribution $ F $ is very heavy tailed.\n",
    "\n",
    "For example, it fails for the Cauchy distribution\n",
    "\n",
    "Let’s have a look at the behavior of the sample mean in this case, and see\n",
    "whether or not the LLN is still valid."
   ]
  },
  {
   "cell_type": "code",
   "execution_count": 5,
   "metadata": {
    "hide-output": false
   },
   "outputs": [
    {
     "data": {
      "image/png": "[encoded data removed]",
      "text/plain": [
       "<Figure size 432x288 with 1 Axes>"
      ]
     },
     "metadata": {
      "needs_background": "light"
     },
     "output_type": "display_data"
    }
   ],
   "source": [
    "from scipy.stats import cauchy\n",
    "\n",
    "np.random.seed(1234)\n",
    "N = 1_000\n",
    "\n",
    "distribution = cauchy()\n",
    "\n",
    "fig, ax = plt.subplots()\n",
    "data = distribution.rvs(N)\n",
    "\n",
    "# Compute sample mean at each n\n",
    "sample_mean = np.empty(N)\n",
    "for n in range(1, N):\n",
    "    sample_mean[n] = np.mean(data[:n])\n",
    "\n",
    "# Plot\n",
    "ax.plot(range(N), sample_mean, alpha=0.6, label='$\\\\bar X_n$')\n",
    "\n",
    "ax.plot(range(N), np.zeros(N), 'k--', lw=0.5)\n",
    "ax.legend()\n",
    "\n",
    "plt.show()"
   ]
  },
  {
   "cell_type": "markdown",
   "metadata": {},
   "source": [
    "The sequence shows no sign of converging.\n",
    "\n",
    "Will convergence occur if we take $ n $ even larger?\n",
    "\n",
    "The answer is no.\n",
    "\n",
    "To see this, recall that the [characteristic function](https://en.wikipedia.org/wiki/Characteristic_function_%28probability_theory%29) of the Cauchy distribution is\n",
    "\n",
    "\n",
    "<a id='equation-lln-cch'></a>\n",
    "$$\n",
    "\\phi(t) = \\mathbb E e^{itX} = \\int e^{i t x} f(x) dx = e^{-|t|} \\tag{2}\n",
    "$$\n",
    "\n",
    "Using independence, the characteristic function of the sample mean becomes\n",
    "\n",
    "$$\n",
    "\\begin{aligned}\n",
    "    \\mathbb E e^{i t \\bar X_n }\n",
    "    & = \\mathbb E \\exp \\left\\{ i \\frac{t}{n} \\sum_{j=1}^n X_j \\right\\}\n",
    "    \\\\\n",
    "    & = \\mathbb E \\prod_{j=1}^n \\exp \\left\\{ i \\frac{t}{n} X_j \\right\\}\n",
    "    \\\\\n",
    "    & = \\prod_{j=1}^n \\mathbb E \\exp \\left\\{ i \\frac{t}{n} X_j \\right\\}\n",
    "    = [\\phi(t/n)]^n\n",
    "\\end{aligned}\n",
    "$$\n",
    "\n",
    "In view of [(2)](#equation-lln-cch), this is just $ e^{-|t|} $.\n",
    "\n",
    "Thus, in the case of the Cauchy distribution, the sample mean itself has the very same Cauchy distribution, regardless of $ n $!\n",
    "\n",
    "In particular, the sequence $ \\bar X_n $ does not converge to any point.\n",
    "\n",
    "\n",
    "<a id='cltail'></a>"
   ]
  },
  {
   "cell_type": "markdown",
   "metadata": {},
   "source": [
    "## Classifying Tail Properties\n",
    "\n",
    "To keep our discussion precise, we need some definitions concerning tail\n",
    "properties.\n",
    "\n",
    "We will focus our attention on the right hand tails of\n",
    "nonnegative random variables and their distributions.\n",
    "\n",
    "The definitions for\n",
    "left hand tails are very similar and we omit them to simplify the exposition."
   ]
  },
  {
   "cell_type": "markdown",
   "metadata": {},
   "source": [
    "### Light and Heavy Tails\n",
    "\n",
    "A distribution $ F $ on $ \\mathbb R_+ $ is called **heavy-tailed** if\n",
    "\n",
    "\n",
    "<a id='equation-defht'></a>\n",
    "$$\n",
    "\\int_0^\\infty \\exp(tx) F(x) = \\infty \\; \\text{ for all } t > 0. \\tag{3}\n",
    "$$\n",
    "\n",
    "We say that a nonnegative random variable $ X $ is **heavy-tailed** if its distribution $ F(x) := \\mathbb P\\{X \\leq x\\} $ is heavy-tailed.\n",
    "\n",
    "This is equivalent to stating that its **moment generating function**\n",
    "$ m(t) := \\mathbb E \\exp(t X) $ is infinite for all $ t > 0 $.\n",
    "\n",
    "- For example, the lognormal distribution is heavy-tailed because its\n",
    "  moment generating function is infinite everywhere on $ (0, \\infty) $.  \n",
    "\n",
    "\n",
    "A distribution $ F $ on $ \\mathbb R_+ $ is called **light-tailed** if it is not heavy-tailed.\n",
    "\n",
    "A nonnegative random variable $ X $ is **light-tailed** if its distribution $ F $ is light-tailed.\n",
    "\n",
    "- Example: Every random variable with bounded support is light-tailed. (Why?)  \n",
    "- Example: If $ X $ has the exponential distribution, with cdf $ F(x) = 1 - \\exp(-\\lambda x) $ for some $ \\lambda > 0 $, then its moment generating function is finite whenever $ t < \\lambda $.  Hence $ X $ is light-tailed.  \n",
    "\n",
    "\n",
    "One can show that if $ X $ is light-tailed, then all of its moments are finite.\n",
    "\n",
    "The contrapositive is that if some moment is infinite, then $ X $ is heavy-tailed.\n",
    "\n",
    "The latter condition is not necessary, however.\n",
    "\n",
    "- Example: the lognormal distribution is heavy-tailed but every moment is finite.  "
   ]
  },
  {
   "cell_type": "markdown",
   "metadata": {},
   "source": [
    "### Pareto Tails\n",
    "\n",
    "One specific class of heavy-tailed distributions has been found repeatedly in\n",
    "economic and social phenomena: the class of so-called power laws.\n",
    "\n",
    "Specifically, given $ \\alpha > 0 $, a nonnegative random variable $ X $ is said to have a **Pareto tail** with **tail index** $ \\alpha $ if\n",
    "\n",
    "\n",
    "<a id='equation-plrt'></a>\n",
    "$$\n",
    "\\lim_{x \\to \\infty} x^\\alpha \\, \\mathbb P\\{X > x\\} = c. \\tag{4}\n",
    "$$\n",
    "\n",
    "Evidently [(4)](#equation-plrt) implies the existence of positive constants $ b $ and $ \\bar x $ such that $ \\mathbb P\\{X > x\\} \\geq b x^{- \\alpha} $ whenever $ x \\geq \\bar x $.\n",
    "\n",
    "The implication is that $ \\mathbb P\\{X > x\\} $ converges to zero no faster than $ x^{-\\alpha} $.\n",
    "\n",
    "In some sources, a random variable obeying [(4)](#equation-plrt) is said to have a **power law tail**.\n",
    "\n",
    "The primary example is the **Pareto distribution**, which has distribution\n",
    "\n",
    "\n",
    "<a id='equation-pareto'></a>\n",
    "$$\n",
    "F(x) =\n",
    "\\begin{cases}\n",
    "    1 - \\left( \\bar x/x \\right)^{\\alpha}\n",
    "        & \\text{ if } x \\geq \\bar x\n",
    "    \\\\\n",
    "    0\n",
    "        & \\text{ if } x < \\bar x\n",
    "\\end{cases} \\tag{5}\n",
    "$$\n",
    "\n",
    "for some positive constants $ \\bar x $ and $ \\alpha $.\n",
    "\n",
    "It is easy to see that if $ X \\sim F $, then $ \\mathbb P\\{X > x\\} $ satisfies [(4)](#equation-plrt).\n",
    "\n",
    "Thus, in line with the terminology, Pareto distributed random variables have a Pareto tail."
   ]
  },
  {
   "cell_type": "markdown",
   "metadata": {},
   "source": [
    "### Rank-Size Plots\n",
    "\n",
    "One graphical technique for investigating Pareto tails and power laws is the so-called **rank-size plot**.\n",
    "\n",
    "This kind of figure plots\n",
    "log size against log rank of the population (i.e., location in the population\n",
    "when sorted from smallest to largest).\n",
    "\n",
    "Often just the largest 5 or 10% of observations are plotted.\n",
    "\n",
    "For a sufficiently large number of draws from a Pareto distribution, the plot generates a straight line. For distributions with thinner tails, the data points are concave.\n",
    "\n",
    "A discussion of why this occurs can be found in [[NOM04]](zreferences.ipynb#nishiyama2004estimation).\n",
    "\n",
    "The figure below provides one example, using simulated data.\n",
    "\n",
    "The rank-size plots shows draws from three different distributions: folded normal, chi-squared with 1 degree of freedom and Pareto.\n",
    "\n",
    "In each case, the largest 5% of 1,000 draws are shown.\n",
    "\n",
    "The Pareto sample produces a straight line, while the lines produced by the other samples are concave.\n",
    "\n",
    "\n",
    "<a id='rank-size-fig1'></a>\n",
    "![rank_size_fig1.png](figures/rank_size_fig1.png)  "
   ]
  },
  {
   "cell_type": "markdown",
   "metadata": {},
   "source": [
    "## Exercises"
   ]
  },
  {
   "cell_type": "markdown",
   "metadata": {},
   "source": [
    "### Exercise 1\n",
    "\n",
    "Replicate [the figure presented above](#light-heavy-fig1) that compares normal and Cauchy draws.\n",
    "\n",
    "Use `np.random.seed(11)` to set the seed."
   ]
  },
  {
   "cell_type": "code",
   "execution_count": 13,
   "metadata": {},
   "outputs": [
    {
     "data": {
      "image/png": "[encoded data removed]",
      "text/plain": [
       "<Figure size 432x288 with 1 Axes>"
      ]
     },
     "metadata": {
      "needs_background": "light"
     },
     "output_type": "display_data"
    },
    {
     "data": {
      "image/png": "[encoded data removed]",
      "text/plain": [
       "<Figure size 432x288 with 1 Axes>"
      ]
     },
     "metadata": {
      "needs_background": "light"
     },
     "output_type": "display_data"
    },
    {
     "data": {
      "image/png": "[encoded data removed]",
      "text/plain": [
       "<Figure size 432x288 with 1 Axes>"
      ]
     },
     "metadata": {
      "needs_background": "light"
     },
     "output_type": "display_data"
    }
   ],
   "source": [
    "from scipy.stats import cauchy, uniform\n",
    "from random import uniform\n",
    "\n",
    "import pandas as pd\n",
    "\n",
    "np.random.seed(11)\n",
    "\n",
    "N=100\n",
    "var1=2\n",
    "var2=12\n",
    "\n",
    "distribution0 = np.random.randn(N) * var1\n",
    "distribution1=np.random.randn(N) * var2\n",
    "\n",
    "distribution2=cauchy()\n",
    "\n",
    "\n",
    "datas = np.array([ distribution0, distribution1, distribution2.rvs(N)])\n",
    "\n",
    "\n",
    "\n",
    "for data in datas:\n",
    "    fig, ax = plt.subplots()\n",
    "    ax.plot(data, linestyle='', marker='o', alpha=1, ms=2)\n",
    "    ax.vlines(list(range(N)), 0, data, lw=0.2)\n",
    "\n",
    "    plt.show()\n"
   ]
  },
  {
   "cell_type": "markdown",
   "metadata": {},
   "source": [
    "### Exercise 2\n",
    "\n",
    "Prove: If $ X $ has a Pareto tail with tail index $ \\alpha $, then\n",
    "$ \\mathbb E[X^r] = \\infty $ for all $ r \\geq \\alpha $."
   ]
  },
  {
   "cell_type": "markdown",
   "metadata": {},
   "source": [
    "### Exercise 3\n",
    "\n",
    "Repeat exercise 1, but replace the three distributions (two normal, one\n",
    "Cauchy) with three Pareto distributions using different choices of\n",
    "$ \\alpha $.\n",
    "\n",
    "For $ \\alpha $, try 1.15, 1.5 and 1.75.\n",
    "\n",
    "Use `np.random.seed(11)` to set the seed."
   ]
  },
  {
   "cell_type": "code",
   "execution_count": 7,
   "metadata": {},
   "outputs": [
    {
     "data": {
      "image/png": "[encoded data removed]",
      "text/plain": [
       "<Figure size 432x288 with 1 Axes>"
      ]
     },
     "metadata": {
      "needs_background": "light"
     },
     "output_type": "display_data"
    },
    {
     "data": {
      "image/png": "[encoded data removed]",
      "text/plain": [
       "<Figure size 432x288 with 1 Axes>"
      ]
     },
     "metadata": {
      "needs_background": "light"
     },
     "output_type": "display_data"
    },
    {
     "data": {
      "image/png": "[encoded data removed]",
      "text/plain": [
       "<Figure size 432x288 with 1 Axes>"
      ]
     },
     "metadata": {
      "needs_background": "light"
     },
     "output_type": "display_data"
    }
   ],
   "source": [
    "from scipy.stats import pareto\n",
    "import matplotlib.pyplot as plt\n",
    "\n",
    "np.random.seed(11)\n",
    "\n",
    "\n",
    "def plot_pareto(α,N):\n",
    "    distribution=pareto(α)\n",
    "    data =distribution.rvs(N)\n",
    "    fig, ax = plt.subplots()\n",
    "\n",
    "    ax.plot(data, linestyle='', marker='o', alpha=1, ms=2, label=f\"α={α}\")\n",
    "    ax.legend()\n",
    "    ax.vlines(list(range(N)), 0, data, lw=0.2)\n",
    "\n",
    "    plt.show()\n",
    "\n",
    "    \n",
    "    \n",
    "    \n",
    "    \n",
    "N=100\n",
    "αs=np.array([1.15,1.5,1.75])\n",
    "for α in αs:\n",
    "    plot_pareto(α,N)\n"
   ]
  },
  {
   "cell_type": "markdown",
   "metadata": {},
   "source": [
    "### Exercise 4\n",
    "\n",
    "Replicate the rank-size plot figure [presented above](#rank-size-fig1).\n",
    "\n",
    "Use `np.random.seed(13)` to set the seed."
   ]
  },
  {
   "cell_type": "code",
   "execution_count": 8,
   "metadata": {},
   "outputs": [
    {
     "data": {
      "image/png": "[encoded data removed]",
      "text/plain": [
       "<Figure size 432x288 with 1 Axes>"
      ]
     },
     "metadata": {
      "needs_background": "light"
     },
     "output_type": "display_data"
    },
    {
     "data": {
      "image/png": "[encoded data removed]",
      "text/plain": [
       "<Figure size 432x288 with 1 Axes>"
      ]
     },
     "metadata": {
      "needs_background": "light"
     },
     "output_type": "display_data"
    },
    {
     "data": {
      "image/png": "[encoded data removed]",
      "text/plain": [
       "<Figure size 432x288 with 1 Axes>"
      ]
     },
     "metadata": {
      "needs_background": "light"
     },
     "output_type": "display_data"
    }
   ],
   "source": [
    "from scipy.stats import pareto, norm\n",
    "import matplotlib.pyplot as plt\n",
    "import numpy as np\n",
    "\n",
    "np.random.seed(13)\n",
    "\n",
    "\n",
    "\n",
    "    \n",
    "def plot(data):\n",
    "    #print(data)\n",
    "    log_size=np.sort(np.log(data))\n",
    "    log_size_rank=np.log(log_size.argsort()[::-1]+1)\n",
    "    fig, ax = plt.subplots()\n",
    "    \n",
    "    ax.scatter(y=log_size,x=log_size_rank, marker='o', alpha=0.5)\n",
    "    ax.set_xlabel(\"log rank\")\n",
    "    ax.set_ylabel(\"log size\")\n",
    "\n",
    "    plt.show()\n",
    "α=1\n",
    "N=1000\n",
    "\n",
    "datas=[abs(norm().rvs(N)),np.exp(norm().rvs(N)),pareto(α).rvs(N)]\n",
    "for data in datas:\n",
    "    plot(data)\n",
    "    "
   ]
  },
  {
   "cell_type": "markdown",
   "metadata": {},
   "source": [
    "### Exercise 5\n",
    "\n",
    "There is an ongoing argument about whether the firm size distribution should\n",
    "be modeled as a Pareto distribution or a lognormal distribution (see, e.g.,\n",
    "[[FDGA+04]](zreferences.ipynb#fujiwara2004pareto), [[KLS18]](zreferences.ipynb#kondo2018us) or [[ST19]](zreferences.ipynb#schluter2019size)).\n",
    "\n",
    "This sounds esoteric but has real implications for a variety of economic\n",
    "phenomena.\n",
    "\n",
    "To illustrate this fact in a simple way, let us consider an economy with\n",
    "100,000 firms, an interest rate of `r = 0.05` and a corporate tax rate of\n",
    "15%.\n",
    "\n",
    "Your task is to estimate the present discounted value of projected corporate\n",
    "tax revenue over the next 10 years.\n",
    "\n",
    "Because we are forecasting, we need a model.\n",
    "\n",
    "We will suppose that\n",
    "\n",
    "1. the number of firms and the firm size distribution (measured in profits) remain fixed and  \n",
    "1. the firm size distribution is either lognormal or Pareto.  \n",
    "\n",
    "\n",
    "Present discounted value of tax revenue will be estimated by\n",
    "\n",
    "1. generating 100,000 draws of firm profit from the firm size distribution,  \n",
    "1. multiplying by the tax rate, and  \n",
    "1. summing the results with discounting to obtain present value.  \n",
    "\n",
    "\n",
    "The Pareto distribution is assumed to take the form [(5)](#equation-pareto) with $ \\bar x = 1 $ and $ \\alpha = 1.05 $.\n",
    "\n",
    "(The value the tail index $ \\alpha $ is plausible given the data [[Gab16]](zreferences.ipynb#gabaix2016power).)\n",
    "\n",
    "To make the lognormal option as similar as possible to the Pareto option, choose its parameters such that the mean and median of both distributions are the same.\n",
    "\n",
    "Note that, for each distribution, your estimate of tax revenue will be random because it is based on a finite number of draws.\n",
    "\n",
    "To take this into account, generate 100 replications (evaluations of tax revenue) for each of the two distributions and compare the two samples by\n",
    "\n",
    "- producing a [violin plot](https://en.wikipedia.org/wiki/Violin_plot) visualizing the two samples side-by-side and  \n",
    "- printing the mean and standard deviation of both samples.  \n",
    "\n",
    "\n",
    "For the seed use `np.random.seed(1234)`.\n",
    "\n",
    "What differences do you observe?\n",
    "\n",
    "(Note: a better approach to this problem would be to model firm dynamics and\n",
    "try to track individual firms given the current distribution.  We will discuss\n",
    "firm dynamics in later lectures.)"
   ]
  },
  {
   "cell_type": "code",
   "execution_count": null,
   "metadata": {},
   "outputs": [],
   "source": []
  }
 ],
 "metadata": {
  "date": 1576498681.20275,
  "filename": "heavy_tails.rst",
  "kernelspec": {
   "display_name": "Python 3",
   "language": "python",
   "name": "python3"
  },
  "language_info": {
   "codemirror_mode": {
    "name": "ipython",
    "version": 3
   },
   "file_extension": ".py",
   "mimetype": "text/x-python",
   "name": "python",
   "nbconvert_exporter": "python",
   "pygments_lexer": "ipython3",
   "version": "3.6.5"
  },
  "title": "Heavy-Tailed Distributions"
 },
 "nbformat": 4,
 "nbformat_minor": 2
}
