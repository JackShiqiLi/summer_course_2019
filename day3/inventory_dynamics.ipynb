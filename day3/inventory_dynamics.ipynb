{
 "cells": [
  {
   "cell_type": "markdown",
   "metadata": {},
   "source": [
    "<div id=\"qe-notebook-header\" align=\"right\" style=\"text-align:right;\">\n",
    "        <a href=\"https://quantecon.org/\" title=\"quantecon.org\">\n",
    "                <img style=\"width:250px;display:inline;\" width=\"250px\" src=\"https://assets.quantecon.org/img/qe-menubar-logo.svg\" alt=\"QuantEcon\">\n",
    "        </a>\n",
    "</div>"
   ]
  },
  {
   "cell_type": "markdown",
   "metadata": {},
   "source": [
    "# Inventory Dynamics\n",
    "\n",
    "\n",
    "<a id='index-0'></a>"
   ]
  },
  {
   "cell_type": "markdown",
   "metadata": {},
   "source": [
    "## Contents\n",
    "\n",
    "- [Inventory Dynamics](#Inventory-Dynamics)  \n",
    "  - [Overview](#Overview)  \n",
    "  - [Sample Paths](#Sample-Paths)  \n",
    "  - [Marginal Distributions](#Marginal-Distributions)  \n",
    "  - [Exercises](#Exercises)  \n"
   ]
  },
  {
   "cell_type": "markdown",
   "metadata": {},
   "source": [
    "## Overview\n",
    "\n",
    "In this lecture we will study the time path of inventories for firms that\n",
    "follow so-called s-S inventory dynamics.\n",
    "\n",
    "Such firms\n",
    "\n",
    "1. wait until inventory falls below some level $ s $ and then  \n",
    "1. order sufficent quantities to bring their inventory back up to capacity $ S $.  \n",
    "\n",
    "\n",
    "These kinds of policies are common in practice and also optimal in certain circumstances.\n",
    "\n",
    "(See the online lecture for more background and information.)\n",
    "\n",
    "Let’s start with some imports"
   ]
  },
  {
   "cell_type": "code",
   "execution_count": null,
   "metadata": {
    "hide-output": false
   },
   "outputs": [],
   "source": [
    "import numpy as np\n",
    "import matplotlib.pyplot as plt\n",
    "%matplotlib inline\n",
    "\n",
    "from numba import njit, jitclass, float64, prange"
   ]
  },
  {
   "cell_type": "markdown",
   "metadata": {},
   "source": [
    "## Sample Paths\n",
    "\n",
    "Consider a firm with inventory $ X_t $.\n",
    "\n",
    "The firm waits until $ X_t \\leq s $ and then restocks up to $ S $ units.\n",
    "\n",
    "It faces stochastic demand $ \\{ D_t \\} $, which we assume is IID.\n",
    "\n",
    "With notation $ a^+ := \\max\\{a, 0\\} $, inventory dynamics can be written\n",
    "as\n",
    "\n",
    "$$\n",
    "X_{t+1} =\n",
    "    \\begin{cases}\n",
    "      ( S - D_{t+1})^+ & \\quad \\text{if } X_t \\leq s \\\\\n",
    "      ( X_t - D_{t+1} )^+ &  \\quad \\text{if } X_t > s\n",
    "    \\end{cases}\n",
    "$$\n",
    "\n",
    "In what follows, we will assume that each $ D_t $ is lognormal, so that\n",
    "\n",
    "$$\n",
    "D_t = \\exp(\\mu + \\sigma Z_t)\n",
    "$$\n",
    "\n",
    "where $ \\mu $ and $ \\sigma $ are parameters and $ \\{Z_t\\} $ is IID\n",
    "and standard normal.\n",
    "\n",
    "Here’s a class that stores parameters and generates time paths for inventory."
   ]
  },
  {
   "cell_type": "code",
   "execution_count": null,
   "metadata": {
    "hide-output": false
   },
   "outputs": [],
   "source": [
    "firm_data = [\n",
    "   ('s', float64),          # restock trigger level\n",
    "   ('S', float64),          # capacity\n",
    "   ('mu', float64),         # shock location parameter\n",
    "   ('sigma', float64)       # shock scale parameter\n",
    "]\n",
    "\n",
    "\n",
    "@jitclass(firm_data)\n",
    "class Firm:\n",
    "\n",
    "    def __init__(self, s=10, S=100, mu=1.0, sigma=0.5):\n",
    "\n",
    "        self.s, self.S, self.mu, self.sigma = s, S, mu, sigma\n",
    "\n",
    "    def update(self, x):\n",
    "        \"Update the state from t to t+1 given current state x.\"\n",
    "\n",
    "        Z = np.random.randn()\n",
    "        D = np.exp(self.mu + self.sigma * Z)\n",
    "        if x <= self.s:\n",
    "            return max(self.S - D, 0)\n",
    "        else:\n",
    "            return max(x - D, 0)\n",
    "\n",
    "    def sim_inventory_path(self, x_init, sim_length):\n",
    "\n",
    "        X = np.empty(sim_length)\n",
    "        X[0] = x_init\n",
    "\n",
    "        for t in range(sim_length-1):\n",
    "            X[t+1] = self.update(X[t])\n",
    "        return X"
   ]
  },
  {
   "cell_type": "markdown",
   "metadata": {},
   "source": [
    "Let’s run a first simulation, of a single path:"
   ]
  },
  {
   "cell_type": "code",
   "execution_count": null,
   "metadata": {
    "hide-output": false
   },
   "outputs": [],
   "source": [
    "firm = Firm()\n",
    "\n",
    "s, S = firm.s, firm.S\n",
    "sim_length = 100\n",
    "x_init = 50\n",
    "\n",
    "X = firm.sim_inventory_path(x_init, sim_length)\n",
    "\n",
    "fig, ax = plt.subplots()\n",
    "bbox = (0., 1.02, 1., .102)\n",
    "legend_args = {'ncol': 3,\n",
    "               'bbox_to_anchor': bbox,\n",
    "               'loc': 3,\n",
    "               'mode': 'expand'}\n",
    "\n",
    "ax.plot(X, label=\"inventory\")\n",
    "ax.plot(s * np.ones(sim_length), 'k--', label=\"$s$\")\n",
    "ax.plot(S * np.ones(sim_length), 'k-', label=\"$S$\")\n",
    "ax.set_ylim(0, S+10)\n",
    "ax.set_xlabel(\"time\")\n",
    "ax.legend(**legend_args)\n",
    "\n",
    "plt.show()"
   ]
  },
  {
   "cell_type": "markdown",
   "metadata": {},
   "source": [
    "Now let’s simulate multiple paths in order to build a more complete picture of\n",
    "the probabilities of different outcomes:"
   ]
  },
  {
   "cell_type": "code",
   "execution_count": null,
   "metadata": {
    "hide-output": false
   },
   "outputs": [],
   "source": [
    "sim_length = 200\n",
    "num_paths = 400\n",
    "\n",
    "fig, ax = plt.subplots()\n",
    "\n",
    "ax.plot(s * np.ones(sim_length), 'k--', label=\"$s$\")\n",
    "ax.plot(S * np.ones(sim_length), 'k-', label=\"$S$\")\n",
    "ax.set_ylim(0, S+10)\n",
    "ax.legend(**legend_args)\n",
    "\n",
    "for i in range(num_paths):\n",
    "    X = firm.sim_inventory_path(x_init, sim_length)\n",
    "    ax.plot(X, 'b', alpha=0.2, lw=0.5)\n",
    "\n",
    "plt.show()"
   ]
  },
  {
   "cell_type": "markdown",
   "metadata": {},
   "source": [
    "## Marginal Distributions\n",
    "\n",
    "Now let’s look at the marginal distribution $ \\psi_T $ of $ X_T $ for some\n",
    "fixed $ T $.\n",
    "\n",
    "We will do this by generating many draws of $ X_T $ given initial\n",
    "condition $ X_0 $.\n",
    "\n",
    "With these draws of $ X_T $ we can build up a picture of its distribution $ \\psi_T $\n",
    "\n",
    "Here’s one visualization, with $ T=50 $."
   ]
  },
  {
   "cell_type": "code",
   "execution_count": null,
   "metadata": {
    "hide-output": false
   },
   "outputs": [],
   "source": [
    "T = 50\n",
    "num_paths = 250  \n",
    "\n",
    "ymin, ymax = 0, S + 10\n",
    "\n",
    "fig, axes = plt.subplots(1, 2, figsize=(11, 6))\n",
    "\n",
    "for ax in axes:\n",
    "    ax.grid(alpha=0.4)\n",
    "\n",
    "ax = axes[0]\n",
    "\n",
    "ax.set_ylim(ymin, ymax)\n",
    "ax.set_ylabel('$X_t$', fontsize=16)\n",
    "ax.vlines((T,), -1.5, 1.5)\n",
    "\n",
    "ax.set_xticks((T,))\n",
    "ax.set_xticklabels((r'$T$',))\n",
    "\n",
    "sample = np.empty(num_paths)\n",
    "for m in range(num_paths):\n",
    "    X = firm.sim_inventory_path(x_init, 2 * T)\n",
    "    ax.plot(X, 'b-', lw=1, alpha=0.5)\n",
    "    ax.plot((T,), (X[T+1],), 'ko', alpha=0.5)\n",
    "    sample[m] = X[T+1]\n",
    "\n",
    "axes[1].set_ylim(ymin, ymax)\n",
    "\n",
    "axes[1].hist(sample,\n",
    "             bins=16,\n",
    "             density=True,\n",
    "             orientation='horizontal',\n",
    "             histtype='bar',\n",
    "             alpha=0.5)\n",
    "\n",
    "plt.show()"
   ]
  },
  {
   "cell_type": "markdown",
   "metadata": {},
   "source": [
    "We can build up a clearer picture by drawing more samples"
   ]
  },
  {
   "cell_type": "code",
   "execution_count": null,
   "metadata": {
    "hide-output": false
   },
   "outputs": [],
   "source": [
    "T = 50\n",
    "num_paths = 50_000\n",
    "\n",
    "fig, ax = plt.subplots()\n",
    "\n",
    "sample = np.empty(num_paths)\n",
    "for m in range(num_paths):\n",
    "    X = firm.sim_inventory_path(x_init, T+1)\n",
    "    sample[m] = X[T]\n",
    "\n",
    "ax.hist(sample,\n",
    "         bins=36,\n",
    "         density=True,\n",
    "         histtype='bar',\n",
    "         alpha=0.75)\n",
    "\n",
    "plt.show()"
   ]
  },
  {
   "cell_type": "markdown",
   "metadata": {},
   "source": [
    "Note that the distribution is bimodal\n",
    "\n",
    "- Most firms have restocked twice but a few have restocked only once (see figure with paths above).  \n",
    "- Firms in the second category have lower inventory.  \n",
    "\n",
    "\n",
    "We can also approximate the distribution using a [kernel density estimator](https://en.wikipedia.org/wiki/Kernel_density_estimation).\n",
    "\n",
    "Kernel density estimators can be thought of as smoothed histograms.\n",
    "\n",
    "They are preferable to histograms when the distribution being estimated is likely to be smooth.\n",
    "\n",
    "We will use a kernel density estimator from [scikit-learn](https://scikit-learn.org/stable/)"
   ]
  },
  {
   "cell_type": "code",
   "execution_count": null,
   "metadata": {
    "hide-output": false
   },
   "outputs": [],
   "source": [
    "from sklearn.neighbors import KernelDensity\n",
    "\n",
    "def plot_kde(sample, ax, label=''):\n",
    "\n",
    "    xmin, xmax = 0.9 * min(sample), 1.1 * max(sample)\n",
    "    xgrid = np.linspace(xmin, xmax, 200)\n",
    "    kde = KernelDensity(kernel='gaussian').fit(sample[:, None])\n",
    "    log_dens = kde.score_samples(xgrid[:, None])\n",
    "\n",
    "    ax.plot(xgrid, np.exp(log_dens), label=label)"
   ]
  },
  {
   "cell_type": "code",
   "execution_count": null,
   "metadata": {
    "hide-output": false
   },
   "outputs": [],
   "source": [
    "fig, ax = plt.subplots()\n",
    "plot_kde(sample, ax)\n",
    "plt.show()"
   ]
  },
  {
   "cell_type": "markdown",
   "metadata": {},
   "source": [
    "The allocation of probability mass is similar to what was shown by the\n",
    "histogram just above."
   ]
  },
  {
   "cell_type": "markdown",
   "metadata": {},
   "source": [
    "## Exercises"
   ]
  },
  {
   "cell_type": "markdown",
   "metadata": {},
   "source": [
    "### Exercise 1\n",
    "\n",
    "This model is asymptotically stationary, with a unique stationary\n",
    "distribution.\n",
    "\n",
    "(This is the same concept we discussed in the lecture on AR(1) processes.)\n",
    "\n",
    "In particular, the sequence of marginal distributions $ \\{\\psi_t\\} $\n",
    "is converging to a unique limiting distribution that does not depend on\n",
    "initial conditions.\n",
    "\n",
    "Although we will not prove this here, we can investigate it using simulation.\n",
    "\n",
    "Your task is to generate and plot the sequence $ \\{\\psi_t\\} $ at times\n",
    "$ t = 10, 50, 250, 500, 750 $ based on the discussion above.\n",
    "\n",
    "(The kernel density estimator is probably the best way to present each\n",
    "distribution.)\n",
    "\n",
    "You should see convergence, in the sense that differences between successive distributions are getting smaller.\n",
    "\n",
    "Try different initial conditions to verify that, in the long run, the distribution is invariant across initial conditions."
   ]
  },
  {
   "cell_type": "markdown",
   "metadata": {},
   "source": [
    "### Exercise 2\n",
    "\n",
    "Using simulation, calculate the probability that firms that start with\n",
    "$ X_0 = 70 $ need to order twice or more in the first 50 periods.\n",
    "\n",
    "You will need a large sample size to get an accurate reading."
   ]
  },
  {
   "cell_type": "code",
   "execution_count": null,
   "metadata": {},
   "outputs": [],
   "source": []
  }
 ],
 "metadata": {
  "date": 1576550473.7569592,
  "filename": "inventory_dynamics.rst",
  "kernelspec": {
   "display_name": "Python 3",
   "language": "python",
   "name": "python3"
  },
  "language_info": {
   "codemirror_mode": {
    "name": "ipython",
    "version": 3
   },
   "file_extension": ".py",
   "mimetype": "text/x-python",
   "name": "python",
   "nbconvert_exporter": "python",
   "pygments_lexer": "ipython3",
   "version": "3.7.3"
  },
  "title": "Inventory Dynamics"
 },
 "nbformat": 4,
 "nbformat_minor": 2
}
