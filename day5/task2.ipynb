{
 "cells": [
  {
   "cell_type": "markdown",
   "metadata": {},
   "source": [
    "# Assignment 2: Improving the discretized solution\n",
    "\n",
    "In this exercise you will make several improvements to the cake\n",
    "eating code in the lecture 7, part 2, to make the solution even\n",
    "more accurate."
   ]
  },
  {
   "cell_type": "markdown",
   "metadata": {},
   "source": [
    "## Task 1. Base solution\n",
    "\n",
    "Copy the version of the cake eating code (with discretized choices)\n",
    "from the lecture slides and modify if needed to to ensure:\n",
    "\n",
    "- There are two separate grids for state $ W_t $ and choice $ c_t $.  \n",
    "- The grids for states and choices are initialized at the time the object is created,\n",
    "  and do not change when the Bellman equation is solved.  \n",
    "\n",
    "\n",
    "Debug the code and produce the convergence plots as in the lecture."
   ]
  },
  {
   "cell_type": "code",
   "execution_count": null,
   "metadata": {
    "hide-output": false
   },
   "outputs": [],
   "source": [
    "# write your code here\n",
    "# come up with a test of your own"
   ]
  },
  {
   "cell_type": "code",
   "execution_count": null,
   "metadata": {
    "hide-output": false
   },
   "outputs": [],
   "source": [
    "import numpy as np\n",
    "import matplotlib.pyplot as plt\n",
    "%matplotlib inline\n",
    "from scipy import interpolate\n",
    "\n",
    "class cake_discretized():\n",
    "    def __init__(self,beta=.9, Wbar=10, ngrid_state=50, ngrid_choice=100):\n",
    "        self.beta = beta    # Discount factor\n",
    "        self.Wbar = Wbar    # Upper bound on cake size\n",
    "        self.ngrid_state = ngrid_state  # Number of grid points for the size of cake\n",
    "        self.ngrid_choice = ngrid_choice  # Number of grid points for how much of cake to consume\n",
    "        self.epsilon = np.finfo(float).eps # smallest positive float number\n",
    "        self.grid_state = np.linspace(self.epsilon,Wbar,ngrid_state) # grid for state space\n",
    "        self.grid_choice = np.linspace(self.epsilon,Wbar,ngrid_choice) # grid for decision space\n",
    "        self.interpolation = 'linear' # interpolation type for Bellman equation\n",
    "        self.choice_bound = False # impose the state bound on the trial values of choice or not\n",
    "    def bellman(self,V0):\n",
    "        #Bellman operator, V0 is one-dim vector of values on grid\n",
    "        matW = np.repeat(np.reshape(self.grid_state,(1,-1)),self.ngrid_choice,0) # matrix with state space repeated in rows\n",
    "        c = np.repeat(np.reshape(self.grid_choice,(-1,1)),self.ngrid_state,1) # decisions grid repeated by columns\n",
    "        if self.choice_bound: c *= np.reshape(self.grid_state,(1,-1)) /self.Wbar # normalize max choice to current wealth\n",
    "        matWpr = matW-c # size of cake in the next period\n",
    "        matWpr[matWpr==0] = self.epsilon # add small quantity to avoid log(0)\n",
    "        mask = matWpr>0 # mask off infeasible choices\n",
    "        # interpolation kind\n",
    "        if self.interpolation=='linear':\n",
    "            interfunc = interpolate.interp1d(self.grid_state,V0,kind='slinear',fill_value=\"extrapolate\")\n",
    "        elif self.interpolation=='quadratic':\n",
    "            interfunc = interpolate.interp1d(self.grid_state,V0,kind='quadratic',fill_value=\"extrapolate\")\n",
    "        elif self.interpolation=='cubic':\n",
    "            interfunc = interpolate.interp1d(self.grid_state,V0,kind='cubic',fill_value=\"extrapolate\")\n",
    "        elif self.interpolation=='polynomial':\n",
    "            p = np.polynomial.polynomial.polyfit(self.grid_state,V0,self.ngrid_state-1)\n",
    "            interfunc = lambda x: np.polynomial.polynomial.polyval(x,p)\n",
    "        else:\n",
    "            print('Unknown interpolation type')\n",
    "            return None\n",
    "        # INPERPOLATE values of next period value at next period case sizes\n",
    "        matV1 = interfunc(matWpr)\n",
    "        preV1 = np.full((self.ngrid_choice,self.ngrid_state),-np.inf) # init V with -inf\n",
    "        preV1[mask] = np.log(c[mask]) + self.beta*matV1[mask] # maximand of the Bellman equation\n",
    "        V1 = np.amax(preV1,0,keepdims=False) # maximum in every column\n",
    "        c1 = c[np.argmax(preV1,axis=0),range(self.ngrid_state)] # choose the max attaining levels of c\n",
    "        return V1, c1\n",
    "    def solve(self, maxiter=1000, tol=1e-4, callback=None, interpolation='linear', choice_bound = False):\n",
    "        '''Solves the model using successive approximations'''\n",
    "        self.interpolation = interpolation # update solver settings\n",
    "        self.choice_bound = choice_bound\n",
    "        V0=np.log(self.grid_state) # on first iteration assume consuming everything\n",
    "        for iter in range(maxiter):\n",
    "            V1,c1=self.bellman(V0)\n",
    "            if callback: callback(iter,self.grid_state,V1,c1) # callback for making plots\n",
    "            if np.all(abs(V1-V0) < tol):\n",
    "                break\n",
    "            V0=V1\n",
    "        else:  # when i went up to maxiter\n",
    "            print('No convergence: maximum number of iterations achieved!')\n",
    "        return V1,c1"
   ]
  },
  {
   "cell_type": "code",
   "execution_count": null,
   "metadata": {
    "hide-output": false
   },
   "outputs": [],
   "source": [
    "m = cake_discretized(beta=0.92,Wbar=10,ngrid_state=50,ngrid_choice=50)\n",
    "V,c = m.solve()"
   ]
  },
  {
   "cell_type": "markdown",
   "metadata": {},
   "source": [
    "## Task 2. Accuracy measure\n",
    "\n",
    "Modify the function that compares the numerical solution to the analytical so\n",
    "that it outputs a measure of accuracy equal to the average of squared deviations over\n",
    "a fixed dense grid. Also provide an argument to disable the plot for Task 5."
   ]
  },
  {
   "cell_type": "code",
   "execution_count": null,
   "metadata": {
    "hide-output": false
   },
   "outputs": [],
   "source": [
    "# write your code here"
   ]
  },
  {
   "cell_type": "code",
   "execution_count": null,
   "metadata": {
    "hide-output": false
   },
   "outputs": [],
   "source": [
    "def accuracy(model,V=None,policy=None,title='',npoints=1000,plot=True):\n",
    "    '''Check the cake eating numerical solution against the analytic solution'''\n",
    "    # analytic solution\n",
    "    aV = lambda w: np.log(w)/(1 - model.beta) + np.log(1 - model.beta)/(1 - model.beta) + model.beta* np.log(model.beta)/((1 - model.beta)**2)\n",
    "    aP = lambda w: (1 - model.beta) * w\n",
    "    if 'cake_ongrid' in str(type(model)):\n",
    "        grid = model.grid\n",
    "    else:\n",
    "        grid = model.grid_state\n",
    "    # solve if needed\n",
    "    if V is None or policy is None:\n",
    "        V,policy = model.solve()\n",
    "    # accuracy measure\n",
    "    xd = np.linspace(grid[0],grid[-1],npoints) # dense grid for accuracy measure\n",
    "    ac = ((aV(xd)-np.interp(xd,grid,V))**2).mean()\n",
    "    # make plots\n",
    "    if plot:\n",
    "        fig1, (ax1,ax2) = plt.subplots(1,2,figsize=(14,8))\n",
    "        ax1.grid(b=True, which='both', color='0.65', linestyle='-')\n",
    "        ax2.grid(b=True, which='both', color='0.65', linestyle='-')\n",
    "        ax1.set_title('Value functions')\n",
    "        ax2.set_title('Policy functionas')\n",
    "        ax1.set_xlabel('Cake size, W')\n",
    "        ax2.set_xlabel('Cake size, W')\n",
    "        ax1.set_ylabel('Value function')\n",
    "        ax2.set_ylabel('Policy function')\n",
    "        ax1.plot(grid[1:],V[1:],linewidth=1.5,label='Numerical')\n",
    "        ax1.plot(grid[1:],aV(grid[1:]),linewidth=1.5,label='Analytical')\n",
    "        ax2.plot(grid,policy,linewidth=1.5,label='Numerical')\n",
    "        ax2.plot(grid,aP(grid),linewidth=1.5,label='Analytical')\n",
    "        ax1.legend()\n",
    "        ax2.legend()\n",
    "        fig1.suptitle(title)\n",
    "        plt.show()\n",
    "    return ac"
   ]
  },
  {
   "cell_type": "code",
   "execution_count": null,
   "metadata": {
    "hide-output": false
   },
   "outputs": [],
   "source": [
    "ac0=accuracy(m,V=V,policy=c)\n",
    "print('Accuracy of the basic solution is',ac0)"
   ]
  },
  {
   "cell_type": "markdown",
   "metadata": {},
   "source": [
    "## Task 3. Bounding the choice grid\n",
    "\n",
    "Modify the Bellman equation code to make the choice discretization grid dependent\n",
    "on the point of the state space where it is applied to, namely make the grid with\n",
    "the same number of points going from $ 0 $ to $ \\vec{W}_j $ when solving\n",
    "at the point $ \\vec{W}_j $, instead of from $ 0 $ to $ \\bar{W} $.\n",
    "\n",
    "Repeat the accuracy check in Task 2 with the new specification."
   ]
  },
  {
   "cell_type": "code",
   "execution_count": null,
   "metadata": {
    "hide-output": false
   },
   "outputs": [],
   "source": [
    "# write your code here"
   ]
  },
  {
   "cell_type": "code",
   "execution_count": null,
   "metadata": {
    "hide-output": false
   },
   "outputs": [],
   "source": [
    "V,c = m.solve(choice_bound=True)\n",
    "ac1=accuracy(m,V=V,policy=c)\n",
    "print('Accuracy of the method with bound on choices is',ac1,'instead of',ac0)"
   ]
  },
  {
   "cell_type": "markdown",
   "metadata": {},
   "source": [
    "## Task 4. Improving interpolation method\n",
    "\n",
    "We could utilize more advanced interpolation schemes for the value function itself.\n",
    "\n",
    "Replace linear interpolation of the value function with quadratic and cubic splines, and approximating\n",
    "polynomials.\n",
    "\n",
    "Compare the accuracy of the new two versions to the original solution and the solution\n",
    "with the improvement from task 3.\n",
    "\n",
    "What is the most accurate solution algorithm?"
   ]
  },
  {
   "cell_type": "code",
   "execution_count": null,
   "metadata": {
    "hide-output": false
   },
   "outputs": [],
   "source": [
    "# write your code here"
   ]
  },
  {
   "cell_type": "code",
   "execution_count": null,
   "metadata": {
    "hide-output": false
   },
   "outputs": [],
   "source": [
    "for knd in 'linear','quadratic','cubic','polynomial':\n",
    "    V,c = m.solve(choice_bound=True,interpolation=knd)\n",
    "    ac=accuracy(m,V=V,policy=c)\n",
    "    print('Accuracy with '+knd+' interpolation is',ac)"
   ]
  },
  {
   "cell_type": "markdown",
   "metadata": {},
   "source": [
    "## Task 5. Convergence to true solution\n",
    "\n",
    "Make a plot of the accuracy measure as function of number of grid points (assuming\n",
    "the number of grid points on choice grid is 2 times that of the states) for each of the four\n",
    "interpolation schemes, with and without the bounding of the choices\n",
    "\n",
    "On the separate axes plot the same curve under the assumption that the number of grid\n",
    "points on the choice grid is 10 time larger than the state grid, for each of the 4\n",
    "interpolation schemes, with and without the bounding of the choices\n",
    "\n",
    "What is the best way to improve the accuracy of the solution?"
   ]
  },
  {
   "cell_type": "code",
   "execution_count": null,
   "metadata": {
    "hide-output": false
   },
   "outputs": [],
   "source": [
    "# write your code here"
   ]
  },
  {
   "cell_type": "code",
   "execution_count": null,
   "metadata": {
    "hide-output": false
   },
   "outputs": [],
   "source": [
    "fig1, (ax1,ax2) = plt.subplots(1,2,figsize=(14,8))\n",
    "fig1.suptitle('Same grids for states and choices')\n",
    "ax1.set_title('Basic solver')\n",
    "ax2.set_title('With bounding of the choices')\n",
    "ax1.set_xlabel('Number of grid points')\n",
    "ax2.set_xlabel('Number of grid points')\n",
    "ax1.set_ylabel('Accuracy')\n",
    "ax2.set_ylabel('Accuracy')\n",
    "grids = np.arange(50,551,100,dtype='int')\n",
    "for knd in 'linear','quadratic','cubic','polynomial':\n",
    "    line = np.empty(grids.size)\n",
    "    for i in range(grids.size):\n",
    "        K = grids[i]\n",
    "        m = cake_discretized(beta=0.92,Wbar=10,ngrid_state=K,ngrid_choice=2*K)\n",
    "        V,c = m.solve(choice_bound=False,interpolation=knd)\n",
    "        line[i]=accuracy(m,V=V,policy=c,plot=False)\n",
    "        print('.',end='')\n",
    "    ax1.plot(grids,line,label=knd+' interpolation')\n",
    "    print('|',end='')\n",
    "    for i in range(grids.size):\n",
    "        K = grids[i]\n",
    "        m = cake_discretized(beta=0.92,Wbar=10,ngrid_state=K,ngrid_choice=2*K)\n",
    "        V,c = m.solve(choice_bound=True,interpolation=knd)\n",
    "        line[i]=accuracy(m,V=V,policy=c,plot=False)\n",
    "        print('.',end='')\n",
    "    ax2.plot(grids,line,label=knd+' interpolation')\n",
    "    print('|',end='')\n",
    "ax1.legend()\n",
    "ax2.legend()\n",
    "plt.show()"
   ]
  }
 ],
 "metadata": {
  "date": 1576724399.5135932,
  "filename": "task2.rst",
  "kernelspec": {
   "display_name": "Python",
   "language": "python3",
   "name": "python3"
  },
  "title": "Assignment 2: Improving the discretized solution"
 },
 "nbformat": 4,
 "nbformat_minor": 2
}