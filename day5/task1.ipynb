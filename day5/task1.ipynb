{
 "cells": [
  {
   "cell_type": "markdown",
   "metadata": {},
   "source": [
    "# Assignment 1: Choosing interpolation method\n",
    "\n",
    "In this exercise you will check how different interpolation methods\n",
    "work with different functions, after writing some diagnostic functions."
   ]
  },
  {
   "cell_type": "markdown",
   "metadata": {},
   "source": [
    "## Choosing the right interpolation method\n",
    "\n",
    "Review the code in Lecture 7, part 1 to refresh your memory about\n",
    "\n",
    "1. Linear interpolation  \n",
    "1. Quadratic and cubic splines  \n",
    "1. Polynomial interpolation  \n",
    "\n",
    "\n",
    "Fix the interpolation window $ x \\in [0,25] $, the interpolation nodes\n",
    "as in the code below, and only change the interpolated function and\n",
    "interpolation scheme."
   ]
  },
  {
   "cell_type": "code",
   "execution_count": null,
   "metadata": {
    "hide-output": false
   },
   "outputs": [],
   "source": [
    "import numpy as np\n",
    "import matplotlib.pyplot as plt\n",
    "%matplotlib inline\n",
    "from scipy import interpolate # Interpolation routines\n",
    "\n",
    "# fixed parts of the problem\n",
    "a,b = 0,25 # interval\n",
    "xd = np.linspace(a,b,1000) # dense grid for plotting\n",
    "np.random.seed(21234) # fix random number sequences\n",
    "nodes = np.sort(np.random.uniform(a,b,15)) # sorted random points"
   ]
  },
  {
   "cell_type": "markdown",
   "metadata": {},
   "source": [
    "## Task 1. Measuring the accuracy\n",
    "\n",
    "Write a function to plot the true function and the interpolation function,\n",
    "and let it also return the measure of accuracy equal to the average square deviation\n",
    "between the two.\n",
    "\n",
    "More precisely, let two measures of accuracy be calculated: one calculated off\n",
    "all points within the initial interval, and the second only between the min and max\n",
    "nodes (so, the second one excludes the extrapolated points)."
   ]
  },
  {
   "cell_type": "code",
   "execution_count": null,
   "metadata": {
    "hide-output": false
   },
   "outputs": [],
   "source": [
    "# write your code here\n",
    "# come up with a test of your own"
   ]
  },
  {
   "cell_type": "code",
   "execution_count": null,
   "metadata": {
    "hide-output": false
   },
   "outputs": [],
   "source": [
    "func=lambda x: np.exp(-x*.1)*np.sin(x*.5) # test function to interpolate\n",
    "\n",
    "def accuracy(ifunc,nodes=nodes,f=func,xd=xd,color='b'):\n",
    "    '''helper function to make plots in this lecture'''\n",
    "    ac1 = ((ifunc(xd)-f(xd))**2).mean()\n",
    "    xd2 = xd[ np.logical_and(xd>=nodes[0],xd<=nodes[-1]) ]\n",
    "    ac2 = ((ifunc(xd2)-f(xd2))**2).mean()\n",
    "    plt.figure(num=1, figsize=(10,8))\n",
    "    plt.scatter(nodes,f(nodes),color='r') # interpolation data\n",
    "    plt.plot(xd,f(xd),color='grey') # true function\n",
    "    plt.plot(xd,ifunc(xd),color=color) # interpolated\n",
    "    mn = min(np.min(f(xd)),np.min(ifunc(xd2))) # correct ylim\n",
    "    mm = max(np.max(f(xd2)),np.max(ifunc(xd2)))\n",
    "    plt.ylim(mn-0.1*np.abs(mn),mm+0.1*np.abs(mm))\n",
    "    plt.show()\n",
    "    print('Accuracy measure is',ac1,'without extrapolation it is',ac2)\n",
    "    return ac1,ac2\n",
    "\n",
    "accuracy(func) # just testing\n",
    "accuracy(lambda x: np.full(x.shape,0.4)) # just testing"
   ]
  },
  {
   "cell_type": "markdown",
   "metadata": {},
   "source": [
    "## Task 2. Interpolating smooth function\n",
    "\n",
    "Compare the accuracy of all three schemes above to interpolate\n",
    "\n",
    "$$\n",
    "f(x) = \\exp(-x/10)\\sin(x/2)\n",
    "$$\n",
    "\n",
    "Hint: use *fill_value=”extrapolate”* option in *interp1d()* to allow for extrapolation\n",
    "\n",
    "Which interpolation scheme is most accurate?"
   ]
  },
  {
   "cell_type": "code",
   "execution_count": null,
   "metadata": {
    "hide-output": false
   },
   "outputs": [],
   "source": [
    "# write your code here"
   ]
  },
  {
   "cell_type": "code",
   "execution_count": null,
   "metadata": {
    "hide-output": false
   },
   "outputs": [],
   "source": [
    "func=lambda x: np.exp(-x*.1)*np.sin(x*.5)\n",
    "\n",
    "def test_interpolation_methods(func):\n",
    "    res = {}\n",
    "    for knd, clr in ('slinear','m'),('quadratic','b'),('cubic','g'),('polynomial','y'):\n",
    "        if knd == 'polynomial':\n",
    "            p = np.polynomial.polynomial.polyfit(nodes,func(nodes),len(nodes)-1)\n",
    "            ifunc = lambda x: np.polynomial.polynomial.polyval(x,p)\n",
    "        else:\n",
    "            ifunc = interpolate.interp1d(nodes,func(nodes),kind=knd,fill_value=\"extrapolate\")\n",
    "        res[knd] = accuracy(ifunc,f=func)\n",
    "    from pprint import pprint\n",
    "    print('Accuracy by interpolation method (with and without extrapolations):')\n",
    "    pprint(res)\n",
    "\n",
    "test_interpolation_methods(func)"
   ]
  },
  {
   "cell_type": "markdown",
   "metadata": {},
   "source": [
    "## Task 3. Interpolating complex periodic function\n",
    "\n",
    "Compare the accuracy of all three schemes above to interpolate\n",
    "\n",
    "$$\n",
    "f(x) = x + \\exp(x/10)\\sin(x)\n",
    "$$\n",
    "\n",
    "Which interpolation scheme is most accurate?"
   ]
  },
  {
   "cell_type": "code",
   "execution_count": null,
   "metadata": {
    "hide-output": false
   },
   "outputs": [],
   "source": [
    "# write your code here"
   ]
  },
  {
   "cell_type": "code",
   "execution_count": null,
   "metadata": {
    "hide-output": false
   },
   "outputs": [],
   "source": [
    "func=lambda x: x+np.exp(x*.1)*np.sin(x)\n",
    "test_interpolation_methods(func)"
   ]
  },
  {
   "cell_type": "markdown",
   "metadata": {},
   "source": [
    "## Task 4. Interpolating function with kinks\n",
    "\n",
    "Compare the accuracy of all three schemes above to interpolate\n",
    "\n",
    "$$\n",
    "f(x) = \\max \\big( x + \\exp(x/10)\\sin(3x/4); x + 5  + \\exp([x+5]/10)\\sin(3[x+5]/4) \\big)\n",
    "$$\n",
    "\n",
    "Which interpolation scheme is most accurate?"
   ]
  },
  {
   "cell_type": "code",
   "execution_count": null,
   "metadata": {
    "hide-output": false
   },
   "outputs": [],
   "source": [
    "# write your code here"
   ]
  },
  {
   "cell_type": "code",
   "execution_count": null,
   "metadata": {
    "hide-output": false
   },
   "outputs": [],
   "source": [
    "func=lambda x: np.maximum( x+np.exp(x*.1)*np.sin(x*.75), x+5+np.exp((x+5)*.1)*np.sin((x+5)*.75) )\n",
    "test_interpolation_methods(func)"
   ]
  },
  {
   "cell_type": "markdown",
   "metadata": {},
   "source": [
    "## Task 5. Interpolating discontinuous function\n",
    "\n",
    "Compare the accuracy of all three schemes above to interpolate\n",
    "\n",
    "$$\n",
    "f(x) = \\exp(-x/10)\\sin(x/2) + \\mathbb{1}\\{\\cos(x)>1/2\\}\n",
    "$$\n",
    "\n",
    "Which interpolation scheme is most accurate?"
   ]
  },
  {
   "cell_type": "code",
   "execution_count": null,
   "metadata": {
    "hide-output": false
   },
   "outputs": [],
   "source": [
    "# write your code here"
   ]
  },
  {
   "cell_type": "code",
   "execution_count": null,
   "metadata": {
    "hide-output": false
   },
   "outputs": [],
   "source": [
    "func=lambda x: np.exp(-x*.1)*np.sin(x*.5)+(np.cos(x)>.5)\n",
    "test_interpolation_methods(func)"
   ]
  }
 ],
 "metadata": {
  "date": 1576724399.436196,
  "filename": "task1.rst",
  "kernelspec": {
   "display_name": "Python",
   "language": "python3",
   "name": "python3"
  },
  "title": "Assignment 1: Choosing interpolation method"
 },
 "nbformat": 4,
 "nbformat_minor": 2
}